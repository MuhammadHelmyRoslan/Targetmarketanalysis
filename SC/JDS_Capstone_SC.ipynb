{
 "cells": [
  {
   "cell_type": "markdown",
   "metadata": {},
   "source": [
    "<img src=\"../images/cads-logo.png\" style=\"height: 100px;\" align=left> \n",
    "<img src=\"../images/jds.png\" style=\"height: 100px;\" align=right> "
   ]
  },
  {
   "cell_type": "markdown",
   "metadata": {},
   "source": [
    "# JDS Capstone: Target Market Analysis\n",
    "\n",
    "You have been provided with information about the customers' historical purchase as the amount of money spent, Number of inactive months and so on. Two columns `Potential_Customer` and `Cust_Last_Purchase` represent the customers' respond to the latest advertisement. The column `Potential_Customer` represents if the customer purchased any product, and the column `Cust_Last_Purchase` represents the amount of this purchase and it is `Nan` if there has been no purchase."
   ]
  },
  {
   "cell_type": "markdown",
   "metadata": {},
   "source": [
    "## Data description\n",
    "- Below is the description of each feature available in the dataset.\n",
    "<img src=\"../images/MicrosoftTeams-image.png\" style=\"height: 700px\">"
   ]
  },
  {
   "cell_type": "markdown",
   "metadata": {},
   "source": [
    "## Objective\n",
    "**1. Design a predictive model to determine the potential customers who will purchase if you send the advertisement .** The target variable is `Potential_Customer`. \n",
    "\n",
    "    **Attention:** Because the column `Cust_Last_Purchase` relates to the target variable `Potential_Customer`, you need to exclude it from your model.\n",
    "\n",
    "**2. Calculate the value and the revenue of your model.** Fit your model on train set. Assume amonge the customers on your test set we only send advertisement to those your model predicted as Class1 and we ignore the rest. From the data you can calculate the average `Cust_Last_Purchase` for those who are in the train set and had the last purchase (`Cust_Last_Purchase`>0) . Assume sending advertisement to each customer costs 5$ and the average purchase you calculated on the train set remains the same for the test set. Calculate the value of your models to choose the best model.\n",
    "\n",
    "    - cost = advertisement_cost * number of the predicted positive\n",
    "    - lost = average_purchase * number of the predicted negative but they have been positive\n",
    "    - gain = average_purchase * number of the predicted positive and they have been positive\n",
    "    - value = gain - lost - cost\n",
    "    - revenue = gain - cost\n",
    "\n",
    "**3. Compare your best model's revenue with the revenue of the default solution which is sending advertisement to all the customers in X_test.** Which solution would you choose?\n",
    "\n",
    "    - cost = advertisement_cost * size of the test set\n",
    "    - gain = sum(Cust_Last_Purchase) on test set\n",
    "    - revenue = gain - cost\n",
    "    \n",
    "**4. Assume the next time you want to target a group of 30,000 customers simillar to this group. And assume the purchase rate is $10\\%$ which means 10 out of 100 people who receive the advertisement will purchase the product. Also assume your model will have the same Precision and Recall for Class1 .** Will you send the advertisement to everyone, or you use one of the models you have already created?\n",
    "\n",
    "    - calculate your model's revenue on this set of 30,000 customers based on the above assumptions\n",
    "    - calculate the revenue of the default model: send advertisement to everyone\n",
    "         - cost = advertisement_cost * size of the test set\n",
    "         - gain = average_purchase * purchase_rate\n",
    "         - revenue = gain - cost\n",
    "    \n",
    "**Hint:**\n",
    "    To calculate the revenue of a model for this new set of customers with different purchase rate we need to calculate the new confusion matrix given Precision and Recall for Class1 are fixed."
   ]
  },
  {
   "cell_type": "markdown",
   "metadata": {},
   "source": [
    "## Submission Guideline\n",
    "\n",
    "Perform the following:\n",
    "\n",
    "1. Create a team (2-3 people)\n",
    "2. Perform the following:\n",
    "    1. **Data Wrangling - Cleaning & Merging**: Check and handle the existance of missing values, the type of variables, or integrity of data\n",
    "    2. **Exploratory Data Analysis**: Analyze data to summarize their main characteristics\n",
    "    3. **Feature Engineering**: Make new features or change the current features\n",
    "    4. **Feature Selection**: Choose the best features\n",
    "    5. **Data Pre-Processing**: Make data usable for applying ML algorithms. \n",
    "    6. **Model Design**: Create several predictive models and tune the hyperparameters\n",
    "    7. **Model Evaluation**: Compare the performance of the models\n",
    "    8. **Bonus**: Any creative idea for improving machine learning models\n",
    "\n",
    "The output expected at the end of this capstone is:\n",
    "1. One **Jupyter notebook** containing all analysis performed using Python.\n",
    "2. One **PowerPoint** presentation containing the analysis results. Each group will be allocated 15-20 minutes (inclusive of Q&A) to present their analysis results to the class. \n",
    "\n",
    "**One zip file per group** is to be uploaded on **GDrive** by the **time** that will be given to you by the trainer, including the **jupyter notebook(s)** and the **powerpoint presentation** indicating the **names of all group members**."
   ]
  },
  {
   "cell_type": "markdown",
   "metadata": {},
   "source": [
    "## Presentation Guideline\n",
    "\n",
    "**Note(s):**\n",
    "1. Only **one submission** is required per group.\n",
    "2. Include full details in your notebook and **report only important results** in your presentation.\n",
    "3. Please only use Jupyter notebook (pandas) to clean the data (Do not clean manually using Excel)"
   ]
  },
  {
   "cell_type": "markdown",
   "metadata": {},
   "source": [
    "# Table of Content\n",
    "\n",
    "- [JDS Capstone: Target Market Analysis](#JDS-Capstone:-Target-Market-Analysis)\n",
    "- [Data description](#Data-description)\n",
    "- [Objective](#Objective)\n",
    "- [Submission Guideline](#Submission-Guideline)\n",
    "- [Presentation Guideline](#Presentation-Guideline)\n",
    "- [Table of Content](#Table-of-Content)\n",
    "- [0. Import necessary Packages](#0.-Import-necessary-Packages)\n",
    "- [1. Load the Data into Pandas Dataframe](#1.-Load-the-Data-into-Pandas-Dataframe)\n",
    "- [2. Data Cleaning](#2.-Data-Cleaning)\n",
    "    - [2.1 How big is the dataset? (number of rows, features and total datapoints)](#2.1-How-big-is-the-dataset?-(number-of-rows,-features-and-total-datapoints))\n",
    "    - [2.2 What is the type of each column?](#2.2-What-is-the-type-of-each-column?)\n",
    "        - [2.2.1 Why columns such as `Cust_Last_Purchase` are `object` while they should be `float64`? Fix the type of the columns as it should be.](#2.2.1-Why-columns-such-as-`Cust_Last_Purchase`-are-`object`-while-they-should-be-`float64`?-Fix-the-type-of-the-columns-as-it-should-be.)\n",
    "    - [2.3 Check data for duplicate rows and remove the duplicates](#2.3-Check-data-for-duplicate-rows-and-remove-the-duplicates)\n",
    "    - [2.4 Do we need `C_ID` in our analysis? Drop the columns you will not use in your analysis, if there is any.](#2.4-Do-we-need-`C_ID`-in-our-analysis?-Drop-the-columns-you-will-not-use-in-your-analysis,-if-there-is-any.)\n",
    "- [3. Exploratory Data Analysis (EDA)](#3.-Exploratory-Data-Analysis-(EDA))\n",
    "    - [3.1 Explore Categorical Variables](#3.2-Explore-Categorical-Variables)\n",
    "        - [3.1.1 Insight](#3.1.1-Insight)\n",
    "        - [3.1.2 Solution](#3.1.2-Solution)\n",
    "    - [3.2 Explore Relationship Between Categorical & Target Variable. Interpret the observation](#3.2-Explore-Relationship-Between-Categorical-&-Target-Variable.-Interpret-the-observation)\n",
    "        - [3.2.1. Insight](#3.2.1.-Insight)\n",
    "    - [3.3 Explore Numerical Variables](#3.3-Explore-Numerical-Variables)\n",
    "        - [3.3.1 Insight](#3.3.1-Insight)\n",
    "    - [3.4 Explore the Relationship between Numerical Variables & Target Variable. Interpret your observation](#3.4-Explore-the-Relationship-between-Numerical-Variables-&-Target-Variable.-Interpret-your-observation)\n",
    "    - [3.5 Explore the Relationship between the columns and try to answer the following questions:](#3.5-Explore-the-Relationship-between-the-columns-and-try-to-answer-the-following-questions:)\n",
    "- [4. Feature Enginearing](#4.-Feature-Enginearing)\n",
    "    - [4.1 Add Some High Level Features and explore their relationship with the target variable](#4.1-Add-Some-High-Level-Features-and-explore-their-relationship-with-the-target-variable)\n",
    "    - [4.2 Check Correlation between Numerical Variables](#4.2-Check-Correlation-between-Numerical-Variables)\n",
    "- [5. Feature Selection](#5.-Feature-Selection)\n",
    "- [6. Data PreProcessing](#6.-Data-PreProcessing)\n",
    "    - [6.1 Check the Data for Missing Values](#6.1-Check-the-Data-for-Missing-Values)\n",
    "    - [6.2 Separate X (features) and y (target)](#6.2-Separate-X-(features)-and-y-(target))\n",
    "    - [6.3 Split data to train/test](#6.3-Split-data-to-train/test)\n",
    "    - [6.4 Dummy Variables](#6.4-Dummy-Variables)\n",
    "    - [6.5 Feature Scaling](#6.5-Feature-Scaling)\n",
    "    - [6.6 PCA on Numerical Columns only](#6.6-PCA-on-Numerical-Columns-only)\n",
    "- [7. Objective 1: Machine Learning](#7.-Objective-1:-Machine-Learning)\n",
    "- [8. Objective 2](#8.-Objective-2)\n",
    "- [9. Objective 3](#9.-Objective-3)\n",
    "- [10. Objective 4](#10.-Objective-4)"
   ]
  },
  {
   "cell_type": "markdown",
   "metadata": {},
   "source": [
    "#   0. Import necessary Packages"
   ]
  },
  {
   "cell_type": "code",
   "execution_count": 2,
   "metadata": {},
   "outputs": [],
   "source": [
    "# Importing relevant packages\n",
    "import pandas as pd\n",
    "import numpy as np\n",
    "import matplotlib.pyplot as plt\n",
    "import seaborn as sns\n",
    "\n",
    "from sklearn.linear_model import LogisticRegression\n",
    "from sklearn.ensemble import RandomForestClassifier, GradientBoostingClassifier\n",
    "from sklearn.neighbors import KNeighborsClassifier\n",
    "from sklearn.tree import DecisionTreeClassifier\n",
    "from sklearn.svm import SVC\n",
    "from sklearn.model_selection import train_test_split\n",
    "from sklearn.metrics import confusion_matrix\n",
    "from sklearn.preprocessing import StandardScaler\n",
    "from sklearn.model_selection import GridSearchCV\n",
    "from sklearn.metrics import recall_score, precision_score, f1_score\n",
    "from sklearn.model_selection import cross_val_score\n",
    "from sklearn.model_selection import cross_val_predict\n",
    "from sklearn.metrics import classification_report\n",
    "from sklearn.neural_network import MLPClassifier\n",
    "from sklearn.model_selection import cross_val_score, GridSearchCV\n",
    "from sklearn.metrics import SCORERS, roc_auc_score, f1_score\n",
    "from sklearn.metrics import accuracy_score\n",
    "import warnings\n",
    "warnings.filterwarnings(\"ignore\")"
   ]
  },
  {
   "cell_type": "markdown",
   "metadata": {},
   "source": [
    "#  1. Load the Data into Pandas Dataframe"
   ]
  },
  {
   "cell_type": "code",
   "execution_count": 3,
   "metadata": {},
   "outputs": [],
   "source": [
    "# Load the data into data dataframe\n",
    "data = pd.read_csv('../data.csv')"
   ]
  },
  {
   "cell_type": "code",
   "execution_count": 4,
   "metadata": {},
   "outputs": [
    {
     "data": {
      "text/html": [
       "<div>\n",
       "<style scoped>\n",
       "    .dataframe tbody tr th:only-of-type {\n",
       "        vertical-align: middle;\n",
       "    }\n",
       "\n",
       "    .dataframe tbody tr th {\n",
       "        vertical-align: top;\n",
       "    }\n",
       "\n",
       "    .dataframe thead th {\n",
       "        text-align: right;\n",
       "    }\n",
       "</style>\n",
       "<table border=\"1\" class=\"dataframe\">\n",
       "  <thead>\n",
       "    <tr style=\"text-align: right;\">\n",
       "      <th></th>\n",
       "      <th>0</th>\n",
       "      <th>1</th>\n",
       "      <th>2</th>\n",
       "      <th>3</th>\n",
       "      <th>4</th>\n",
       "    </tr>\n",
       "  </thead>\n",
       "  <tbody>\n",
       "    <tr>\n",
       "      <th>Potential_Customer</th>\n",
       "      <td>1</td>\n",
       "      <td>1</td>\n",
       "      <td>0</td>\n",
       "      <td>1</td>\n",
       "      <td>1</td>\n",
       "    </tr>\n",
       "    <tr>\n",
       "      <th>C_ID</th>\n",
       "      <td>9946</td>\n",
       "      <td>87939</td>\n",
       "      <td>88003</td>\n",
       "      <td>188721</td>\n",
       "      <td>88056</td>\n",
       "    </tr>\n",
       "    <tr>\n",
       "      <th>Cust_Last_Purchase</th>\n",
       "      <td>$5.00</td>\n",
       "      <td>$30.00</td>\n",
       "      <td>NaN</td>\n",
       "      <td>$20.00</td>\n",
       "      <td>$5.00</td>\n",
       "    </tr>\n",
       "    <tr>\n",
       "      <th>Pur_3_years</th>\n",
       "      <td>2</td>\n",
       "      <td>1</td>\n",
       "      <td>5</td>\n",
       "      <td>1</td>\n",
       "      <td>3</td>\n",
       "    </tr>\n",
       "    <tr>\n",
       "      <th>Pur_5_years</th>\n",
       "      <td>17</td>\n",
       "      <td>7</td>\n",
       "      <td>12</td>\n",
       "      <td>11</td>\n",
       "      <td>15</td>\n",
       "    </tr>\n",
       "    <tr>\n",
       "      <th>Pur_3_years_Indirect</th>\n",
       "      <td>2</td>\n",
       "      <td>0</td>\n",
       "      <td>3</td>\n",
       "      <td>0</td>\n",
       "      <td>2</td>\n",
       "    </tr>\n",
       "    <tr>\n",
       "      <th>Pur_5_years_Indirect</th>\n",
       "      <td>4</td>\n",
       "      <td>3</td>\n",
       "      <td>5</td>\n",
       "      <td>3</td>\n",
       "      <td>7</td>\n",
       "    </tr>\n",
       "    <tr>\n",
       "      <th>Pur_latest</th>\n",
       "      <td>$0.00</td>\n",
       "      <td>$25.00</td>\n",
       "      <td>$15.00</td>\n",
       "      <td>$20.00</td>\n",
       "      <td>$3.00</td>\n",
       "    </tr>\n",
       "    <tr>\n",
       "      <th>Pur_3_years_Avg</th>\n",
       "      <td>$7.50</td>\n",
       "      <td>$25.00</td>\n",
       "      <td>$15.00</td>\n",
       "      <td>$20.00</td>\n",
       "      <td>$4.33</td>\n",
       "    </tr>\n",
       "    <tr>\n",
       "      <th>Pur_5_years_Avg</th>\n",
       "      <td>$7.76</td>\n",
       "      <td>$13.00</td>\n",
       "      <td>$11.25</td>\n",
       "      <td>$12.45</td>\n",
       "      <td>$3.80</td>\n",
       "    </tr>\n",
       "    <tr>\n",
       "      <th>Pur_3_years_Avg_Indirect</th>\n",
       "      <td>$7.50</td>\n",
       "      <td>NaN</td>\n",
       "      <td>$14.67</td>\n",
       "      <td>NaN</td>\n",
       "      <td>$4.00</td>\n",
       "    </tr>\n",
       "    <tr>\n",
       "      <th>InAct_Last</th>\n",
       "      <td>14</td>\n",
       "      <td>18</td>\n",
       "      <td>19</td>\n",
       "      <td>5</td>\n",
       "      <td>17</td>\n",
       "    </tr>\n",
       "    <tr>\n",
       "      <th>InAct_First</th>\n",
       "      <td>110</td>\n",
       "      <td>75</td>\n",
       "      <td>57</td>\n",
       "      <td>113</td>\n",
       "      <td>118</td>\n",
       "    </tr>\n",
       "    <tr>\n",
       "      <th>Ad_Res_1_year</th>\n",
       "      <td>32</td>\n",
       "      <td>13</td>\n",
       "      <td>14</td>\n",
       "      <td>17</td>\n",
       "      <td>13</td>\n",
       "    </tr>\n",
       "    <tr>\n",
       "      <th>Ad_Res_3_Year</th>\n",
       "      <td>48</td>\n",
       "      <td>35</td>\n",
       "      <td>35</td>\n",
       "      <td>38</td>\n",
       "      <td>28</td>\n",
       "    </tr>\n",
       "    <tr>\n",
       "      <th>Ad_Res_5_Year</th>\n",
       "      <td>73</td>\n",
       "      <td>55</td>\n",
       "      <td>53</td>\n",
       "      <td>71</td>\n",
       "      <td>63</td>\n",
       "    </tr>\n",
       "    <tr>\n",
       "      <th>Ad_Res_Ind_1_Year</th>\n",
       "      <td>3</td>\n",
       "      <td>6</td>\n",
       "      <td>6</td>\n",
       "      <td>8</td>\n",
       "      <td>6</td>\n",
       "    </tr>\n",
       "    <tr>\n",
       "      <th>Ad_Res_Ind_3_Year</th>\n",
       "      <td>12</td>\n",
       "      <td>6</td>\n",
       "      <td>17</td>\n",
       "      <td>8</td>\n",
       "      <td>12</td>\n",
       "    </tr>\n",
       "    <tr>\n",
       "      <th>Ad_Res_Ind_5_Year</th>\n",
       "      <td>16</td>\n",
       "      <td>22</td>\n",
       "      <td>22</td>\n",
       "      <td>33</td>\n",
       "      <td>24</td>\n",
       "    </tr>\n",
       "    <tr>\n",
       "      <th>Status_Cust</th>\n",
       "      <td>A</td>\n",
       "      <td>A</td>\n",
       "      <td>S</td>\n",
       "      <td>A</td>\n",
       "      <td>S</td>\n",
       "    </tr>\n",
       "    <tr>\n",
       "      <th>Status_Latest_Ad</th>\n",
       "      <td>0</td>\n",
       "      <td>1</td>\n",
       "      <td>1</td>\n",
       "      <td>0</td>\n",
       "      <td>1</td>\n",
       "    </tr>\n",
       "    <tr>\n",
       "      <th>Age</th>\n",
       "      <td>71.0</td>\n",
       "      <td>7.0</td>\n",
       "      <td>79.0</td>\n",
       "      <td>73.0</td>\n",
       "      <td>68.0</td>\n",
       "    </tr>\n",
       "    <tr>\n",
       "      <th>Gender</th>\n",
       "      <td>F</td>\n",
       "      <td>M</td>\n",
       "      <td>F</td>\n",
       "      <td>F</td>\n",
       "      <td>F</td>\n",
       "    </tr>\n",
       "    <tr>\n",
       "      <th>Cust_Prop</th>\n",
       "      <td>H</td>\n",
       "      <td>U</td>\n",
       "      <td>U</td>\n",
       "      <td>U</td>\n",
       "      <td>H</td>\n",
       "    </tr>\n",
       "    <tr>\n",
       "      <th>Cust_Ann_Income</th>\n",
       "      <td>$65,957.00</td>\n",
       "      <td>$0.00</td>\n",
       "      <td>$0.00</td>\n",
       "      <td>$76,293.00</td>\n",
       "      <td>$113,663.00</td>\n",
       "    </tr>\n",
       "  </tbody>\n",
       "</table>\n",
       "</div>"
      ],
      "text/plain": [
       "                                    0        1        2            3  \\\n",
       "Potential_Customer                  1        1        0            1   \n",
       "C_ID                             9946    87939    88003       188721   \n",
       "Cust_Last_Purchase             $5.00   $30.00       NaN      $20.00    \n",
       "Pur_3_years                         2        1        5            1   \n",
       "Pur_5_years                        17        7       12           11   \n",
       "Pur_3_years_Indirect                2        0        3            0   \n",
       "Pur_5_years_Indirect                4        3        5            3   \n",
       "Pur_latest                     $0.00   $25.00   $15.00       $20.00    \n",
       "Pur_3_years_Avg                $7.50   $25.00   $15.00       $20.00    \n",
       "Pur_5_years_Avg                $7.76   $13.00   $11.25       $12.45    \n",
       "Pur_3_years_Avg_Indirect       $7.50       NaN  $14.67           NaN   \n",
       "InAct_Last                         14       18       19            5   \n",
       "InAct_First                       110       75       57          113   \n",
       "Ad_Res_1_year                      32       13       14           17   \n",
       "Ad_Res_3_Year                      48       35       35           38   \n",
       "Ad_Res_5_Year                      73       55       53           71   \n",
       "Ad_Res_Ind_1_Year                   3        6        6            8   \n",
       "Ad_Res_Ind_3_Year                  12        6       17            8   \n",
       "Ad_Res_Ind_5_Year                  16       22       22           33   \n",
       "Status_Cust                         A        A        S            A   \n",
       "Status_Latest_Ad                    0        1        1            0   \n",
       "Age                              71.0      7.0     79.0         73.0   \n",
       "Gender                              F        M        F            F   \n",
       "Cust_Prop                           H        U        U            U   \n",
       "Cust_Ann_Income           $65,957.00    $0.00    $0.00   $76,293.00    \n",
       "\n",
       "                                     4  \n",
       "Potential_Customer                   1  \n",
       "C_ID                             88056  \n",
       "Cust_Last_Purchase              $5.00   \n",
       "Pur_3_years                          3  \n",
       "Pur_5_years                         15  \n",
       "Pur_3_years_Indirect                 2  \n",
       "Pur_5_years_Indirect                 7  \n",
       "Pur_latest                      $3.00   \n",
       "Pur_3_years_Avg                 $4.33   \n",
       "Pur_5_years_Avg                 $3.80   \n",
       "Pur_3_years_Avg_Indirect        $4.00   \n",
       "InAct_Last                          17  \n",
       "InAct_First                        118  \n",
       "Ad_Res_1_year                       13  \n",
       "Ad_Res_3_Year                       28  \n",
       "Ad_Res_5_Year                       63  \n",
       "Ad_Res_Ind_1_Year                    6  \n",
       "Ad_Res_Ind_3_Year                   12  \n",
       "Ad_Res_Ind_5_Year                   24  \n",
       "Status_Cust                          S  \n",
       "Status_Latest_Ad                     1  \n",
       "Age                               68.0  \n",
       "Gender                               F  \n",
       "Cust_Prop                            H  \n",
       "Cust_Ann_Income           $113,663.00   "
      ]
     },
     "execution_count": 4,
     "metadata": {},
     "output_type": "execute_result"
    }
   ],
   "source": [
    "# View first 5 rows of dataframe\n",
    "data.head().T"
   ]
  },
  {
   "cell_type": "code",
   "execution_count": 5,
   "metadata": {},
   "outputs": [
    {
     "data": {
      "text/html": [
       "<div>\n",
       "<style scoped>\n",
       "    .dataframe tbody tr th:only-of-type {\n",
       "        vertical-align: middle;\n",
       "    }\n",
       "\n",
       "    .dataframe tbody tr th {\n",
       "        vertical-align: top;\n",
       "    }\n",
       "\n",
       "    .dataframe thead th {\n",
       "        text-align: right;\n",
       "    }\n",
       "</style>\n",
       "<table border=\"1\" class=\"dataframe\">\n",
       "  <thead>\n",
       "    <tr style=\"text-align: right;\">\n",
       "      <th></th>\n",
       "      <th>count</th>\n",
       "      <th>mean</th>\n",
       "      <th>std</th>\n",
       "      <th>min</th>\n",
       "      <th>25%</th>\n",
       "      <th>50%</th>\n",
       "      <th>75%</th>\n",
       "      <th>max</th>\n",
       "    </tr>\n",
       "  </thead>\n",
       "  <tbody>\n",
       "    <tr>\n",
       "      <th>Potential_Customer</th>\n",
       "      <td>4469.0</td>\n",
       "      <td>0.480868</td>\n",
       "      <td>0.499690</td>\n",
       "      <td>0.0</td>\n",
       "      <td>0.0</td>\n",
       "      <td>0.0</td>\n",
       "      <td>1.0</td>\n",
       "      <td>1.0</td>\n",
       "    </tr>\n",
       "    <tr>\n",
       "      <th>C_ID</th>\n",
       "      <td>4469.0</td>\n",
       "      <td>73837.719848</td>\n",
       "      <td>36156.968605</td>\n",
       "      <td>12.0</td>\n",
       "      <td>52713.0</td>\n",
       "      <td>75790.0</td>\n",
       "      <td>93705.0</td>\n",
       "      <td>191672.0</td>\n",
       "    </tr>\n",
       "    <tr>\n",
       "      <th>Pur_3_years</th>\n",
       "      <td>4469.0</td>\n",
       "      <td>3.297158</td>\n",
       "      <td>2.207326</td>\n",
       "      <td>0.0</td>\n",
       "      <td>2.0</td>\n",
       "      <td>3.0</td>\n",
       "      <td>4.0</td>\n",
       "      <td>15.0</td>\n",
       "    </tr>\n",
       "    <tr>\n",
       "      <th>Pur_5_years</th>\n",
       "      <td>4469.0</td>\n",
       "      <td>11.006042</td>\n",
       "      <td>9.459082</td>\n",
       "      <td>1.0</td>\n",
       "      <td>4.0</td>\n",
       "      <td>9.0</td>\n",
       "      <td>15.0</td>\n",
       "      <td>91.0</td>\n",
       "    </tr>\n",
       "    <tr>\n",
       "      <th>Pur_3_years_Indirect</th>\n",
       "      <td>4469.0</td>\n",
       "      <td>1.897516</td>\n",
       "      <td>1.629178</td>\n",
       "      <td>0.0</td>\n",
       "      <td>1.0</td>\n",
       "      <td>2.0</td>\n",
       "      <td>3.0</td>\n",
       "      <td>9.0</td>\n",
       "    </tr>\n",
       "    <tr>\n",
       "      <th>Pur_5_years_Indirect</th>\n",
       "      <td>4469.0</td>\n",
       "      <td>5.867756</td>\n",
       "      <td>4.939174</td>\n",
       "      <td>0.0</td>\n",
       "      <td>2.0</td>\n",
       "      <td>4.0</td>\n",
       "      <td>9.0</td>\n",
       "      <td>41.0</td>\n",
       "    </tr>\n",
       "    <tr>\n",
       "      <th>InAct_Last</th>\n",
       "      <td>4469.0</td>\n",
       "      <td>17.923697</td>\n",
       "      <td>4.130671</td>\n",
       "      <td>4.0</td>\n",
       "      <td>16.0</td>\n",
       "      <td>18.0</td>\n",
       "      <td>20.0</td>\n",
       "      <td>27.0</td>\n",
       "    </tr>\n",
       "    <tr>\n",
       "      <th>InAct_First</th>\n",
       "      <td>4469.0</td>\n",
       "      <td>73.605952</td>\n",
       "      <td>38.094688</td>\n",
       "      <td>15.0</td>\n",
       "      <td>40.0</td>\n",
       "      <td>74.0</td>\n",
       "      <td>111.0</td>\n",
       "      <td>260.0</td>\n",
       "    </tr>\n",
       "    <tr>\n",
       "      <th>Ad_Res_1_year</th>\n",
       "      <td>4469.0</td>\n",
       "      <td>13.070038</td>\n",
       "      <td>4.991064</td>\n",
       "      <td>3.0</td>\n",
       "      <td>11.0</td>\n",
       "      <td>12.0</td>\n",
       "      <td>13.0</td>\n",
       "      <td>49.0</td>\n",
       "    </tr>\n",
       "    <tr>\n",
       "      <th>Ad_Res_3_Year</th>\n",
       "      <td>4469.0</td>\n",
       "      <td>29.631237</td>\n",
       "      <td>7.787209</td>\n",
       "      <td>5.0</td>\n",
       "      <td>26.0</td>\n",
       "      <td>31.0</td>\n",
       "      <td>34.0</td>\n",
       "      <td>71.0</td>\n",
       "    </tr>\n",
       "    <tr>\n",
       "      <th>Ad_Res_5_Year</th>\n",
       "      <td>4469.0</td>\n",
       "      <td>49.683822</td>\n",
       "      <td>23.056042</td>\n",
       "      <td>7.0</td>\n",
       "      <td>31.0</td>\n",
       "      <td>51.0</td>\n",
       "      <td>66.0</td>\n",
       "      <td>157.0</td>\n",
       "    </tr>\n",
       "    <tr>\n",
       "      <th>Ad_Res_Ind_1_Year</th>\n",
       "      <td>4469.0</td>\n",
       "      <td>5.406355</td>\n",
       "      <td>1.361155</td>\n",
       "      <td>1.0</td>\n",
       "      <td>5.0</td>\n",
       "      <td>6.0</td>\n",
       "      <td>6.0</td>\n",
       "      <td>17.0</td>\n",
       "    </tr>\n",
       "    <tr>\n",
       "      <th>Ad_Res_Ind_3_Year</th>\n",
       "      <td>4469.0</td>\n",
       "      <td>12.045872</td>\n",
       "      <td>4.586081</td>\n",
       "      <td>2.0</td>\n",
       "      <td>7.0</td>\n",
       "      <td>13.0</td>\n",
       "      <td>16.0</td>\n",
       "      <td>28.0</td>\n",
       "    </tr>\n",
       "    <tr>\n",
       "      <th>Ad_Res_Ind_5_Year</th>\n",
       "      <td>4469.0</td>\n",
       "      <td>19.496979</td>\n",
       "      <td>8.580510</td>\n",
       "      <td>3.0</td>\n",
       "      <td>13.0</td>\n",
       "      <td>20.0</td>\n",
       "      <td>27.0</td>\n",
       "      <td>56.0</td>\n",
       "    </tr>\n",
       "    <tr>\n",
       "      <th>Status_Latest_Ad</th>\n",
       "      <td>4469.0</td>\n",
       "      <td>0.562094</td>\n",
       "      <td>0.496185</td>\n",
       "      <td>0.0</td>\n",
       "      <td>0.0</td>\n",
       "      <td>1.0</td>\n",
       "      <td>1.0</td>\n",
       "      <td>1.0</td>\n",
       "    </tr>\n",
       "    <tr>\n",
       "      <th>Age</th>\n",
       "      <td>3510.0</td>\n",
       "      <td>59.020228</td>\n",
       "      <td>16.902682</td>\n",
       "      <td>0.0</td>\n",
       "      <td>47.0</td>\n",
       "      <td>60.0</td>\n",
       "      <td>73.0</td>\n",
       "      <td>87.0</td>\n",
       "    </tr>\n",
       "  </tbody>\n",
       "</table>\n",
       "</div>"
      ],
      "text/plain": [
       "                       count          mean           std   min      25%  \\\n",
       "Potential_Customer    4469.0      0.480868      0.499690   0.0      0.0   \n",
       "C_ID                  4469.0  73837.719848  36156.968605  12.0  52713.0   \n",
       "Pur_3_years           4469.0      3.297158      2.207326   0.0      2.0   \n",
       "Pur_5_years           4469.0     11.006042      9.459082   1.0      4.0   \n",
       "Pur_3_years_Indirect  4469.0      1.897516      1.629178   0.0      1.0   \n",
       "Pur_5_years_Indirect  4469.0      5.867756      4.939174   0.0      2.0   \n",
       "InAct_Last            4469.0     17.923697      4.130671   4.0     16.0   \n",
       "InAct_First           4469.0     73.605952     38.094688  15.0     40.0   \n",
       "Ad_Res_1_year         4469.0     13.070038      4.991064   3.0     11.0   \n",
       "Ad_Res_3_Year         4469.0     29.631237      7.787209   5.0     26.0   \n",
       "Ad_Res_5_Year         4469.0     49.683822     23.056042   7.0     31.0   \n",
       "Ad_Res_Ind_1_Year     4469.0      5.406355      1.361155   1.0      5.0   \n",
       "Ad_Res_Ind_3_Year     4469.0     12.045872      4.586081   2.0      7.0   \n",
       "Ad_Res_Ind_5_Year     4469.0     19.496979      8.580510   3.0     13.0   \n",
       "Status_Latest_Ad      4469.0      0.562094      0.496185   0.0      0.0   \n",
       "Age                   3510.0     59.020228     16.902682   0.0     47.0   \n",
       "\n",
       "                          50%      75%       max  \n",
       "Potential_Customer        0.0      1.0       1.0  \n",
       "C_ID                  75790.0  93705.0  191672.0  \n",
       "Pur_3_years               3.0      4.0      15.0  \n",
       "Pur_5_years               9.0     15.0      91.0  \n",
       "Pur_3_years_Indirect      2.0      3.0       9.0  \n",
       "Pur_5_years_Indirect      4.0      9.0      41.0  \n",
       "InAct_Last               18.0     20.0      27.0  \n",
       "InAct_First              74.0    111.0     260.0  \n",
       "Ad_Res_1_year            12.0     13.0      49.0  \n",
       "Ad_Res_3_Year            31.0     34.0      71.0  \n",
       "Ad_Res_5_Year            51.0     66.0     157.0  \n",
       "Ad_Res_Ind_1_Year         6.0      6.0      17.0  \n",
       "Ad_Res_Ind_3_Year        13.0     16.0      28.0  \n",
       "Ad_Res_Ind_5_Year        20.0     27.0      56.0  \n",
       "Status_Latest_Ad          1.0      1.0       1.0  \n",
       "Age                      60.0     73.0      87.0  "
      ]
     },
     "execution_count": 5,
     "metadata": {},
     "output_type": "execute_result"
    }
   ],
   "source": [
    "# View your data\n",
    "data.describe().T"
   ]
  },
  {
   "cell_type": "markdown",
   "metadata": {},
   "source": [
    "# 2. Data Cleaning\n",
    "Checking the existance of missing values, the type of variables, or integrity of data. "
   ]
  },
  {
   "cell_type": "markdown",
   "metadata": {},
   "source": [
    "## 2.1 How big is the dataset? (number of rows, features and total datapoints)"
   ]
  },
  {
   "cell_type": "code",
   "execution_count": 6,
   "metadata": {},
   "outputs": [
    {
     "name": "stdout",
     "output_type": "stream",
     "text": [
      "The data consists of \n",
      "Rows: 4469 \n",
      "Features: 25 and \n",
      "Total datapoints: 111725\n"
     ]
    }
   ],
   "source": [
    "#learn how to format and get the values\n",
    "print('The data consists of \\nRows: {} \\nFeatures: {} and \\nTotal datapoints: {}'.format(data.shape[0], data.shape[1],data.size))"
   ]
  },
  {
   "cell_type": "markdown",
   "metadata": {},
   "source": [
    "## 2.2 What is the type of each column?"
   ]
  },
  {
   "cell_type": "code",
   "execution_count": 7,
   "metadata": {},
   "outputs": [
    {
     "name": "stdout",
     "output_type": "stream",
     "text": [
      "<class 'pandas.core.frame.DataFrame'>\n",
      "RangeIndex: 4469 entries, 0 to 4468\n",
      "Data columns (total 25 columns):\n",
      " #   Column                    Non-Null Count  Dtype  \n",
      "---  ------                    --------------  -----  \n",
      " 0   Potential_Customer        4469 non-null   int64  \n",
      " 1   C_ID                      4469 non-null   int64  \n",
      " 2   Cust_Last_Purchase        2149 non-null   object \n",
      " 3   Pur_3_years               4469 non-null   int64  \n",
      " 4   Pur_5_years               4469 non-null   int64  \n",
      " 5   Pur_3_years_Indirect      4469 non-null   int64  \n",
      " 6   Pur_5_years_Indirect      4469 non-null   int64  \n",
      " 7   Pur_latest                4469 non-null   object \n",
      " 8   Pur_3_years_Avg           4469 non-null   object \n",
      " 9   Pur_5_years_Avg           4469 non-null   object \n",
      " 10  Pur_3_years_Avg_Indirect  3642 non-null   object \n",
      " 11  InAct_Last                4469 non-null   int64  \n",
      " 12  InAct_First               4469 non-null   int64  \n",
      " 13  Ad_Res_1_year             4469 non-null   int64  \n",
      " 14  Ad_Res_3_Year             4469 non-null   int64  \n",
      " 15  Ad_Res_5_Year             4469 non-null   int64  \n",
      " 16  Ad_Res_Ind_1_Year         4469 non-null   int64  \n",
      " 17  Ad_Res_Ind_3_Year         4469 non-null   int64  \n",
      " 18  Ad_Res_Ind_5_Year         4469 non-null   int64  \n",
      " 19  Status_Cust               4469 non-null   object \n",
      " 20  Status_Latest_Ad          4469 non-null   int64  \n",
      " 21  Age                       3510 non-null   float64\n",
      " 22  Gender                    4469 non-null   object \n",
      " 23  Cust_Prop                 4469 non-null   object \n",
      " 24  Cust_Ann_Income           4469 non-null   object \n",
      "dtypes: float64(1), int64(15), object(9)\n",
      "memory usage: 873.0+ KB\n"
     ]
    }
   ],
   "source": [
    "data.info()"
   ]
  },
  {
   "cell_type": "markdown",
   "metadata": {},
   "source": [
    "### 2.2.1 Why columns such as `Cust_Last_Purchase` are `object` while they should be `float64`? Fix the type of the columns as it should be.\n",
    "\n",
    "**Attention:** Some numerical columns have missing values, Dollar sign, or Comma. You need to fix the issue to be able to convert the column to numerical. \n",
    "\n",
    "**Hint:** \n",
    "1. The following code can help you to remove an 'OldSign' and replace it with a 'NewSign' or nothing: `df.col=df.col.str.replace('OldSign', 'NewSign')`\n",
    "\n",
    "2. After removing the signs and replace it with correct sign, or nothing you need to:\n",
    "\n",
    "    a- Create a list of the name of the categorical columns and the numerical columns:\n",
    "        `CatCols=[Name of the Categorical columns]`\n",
    "        `NumCols=list(set(data.columns)-set(CatCols))`\n",
    "    \n",
    "    b- Fix the type of the columns\n",
    "        `data[CatCols] = data[CatCols].apply(lambda x: x.astype('category'))`\n",
    "        `data[NumCols] = data[NumCols].apply(lambda x: x.astype('float64'))`"
   ]
  },
  {
   "cell_type": "code",
   "execution_count": 8,
   "metadata": {},
   "outputs": [
    {
     "data": {
      "text/html": [
       "<div>\n",
       "<style scoped>\n",
       "    .dataframe tbody tr th:only-of-type {\n",
       "        vertical-align: middle;\n",
       "    }\n",
       "\n",
       "    .dataframe tbody tr th {\n",
       "        vertical-align: top;\n",
       "    }\n",
       "\n",
       "    .dataframe thead th {\n",
       "        text-align: right;\n",
       "    }\n",
       "</style>\n",
       "<table border=\"1\" class=\"dataframe\">\n",
       "  <thead>\n",
       "    <tr style=\"text-align: right;\">\n",
       "      <th></th>\n",
       "      <th>0</th>\n",
       "      <th>1</th>\n",
       "      <th>2</th>\n",
       "      <th>3</th>\n",
       "      <th>4</th>\n",
       "    </tr>\n",
       "  </thead>\n",
       "  <tbody>\n",
       "    <tr>\n",
       "      <th>Potential_Customer</th>\n",
       "      <td>1</td>\n",
       "      <td>1</td>\n",
       "      <td>0</td>\n",
       "      <td>1</td>\n",
       "      <td>1</td>\n",
       "    </tr>\n",
       "    <tr>\n",
       "      <th>C_ID</th>\n",
       "      <td>9946</td>\n",
       "      <td>87939</td>\n",
       "      <td>88003</td>\n",
       "      <td>188721</td>\n",
       "      <td>88056</td>\n",
       "    </tr>\n",
       "    <tr>\n",
       "      <th>Cust_Last_Purchase</th>\n",
       "      <td>5.00</td>\n",
       "      <td>30.00</td>\n",
       "      <td>NaN</td>\n",
       "      <td>20.00</td>\n",
       "      <td>5.00</td>\n",
       "    </tr>\n",
       "    <tr>\n",
       "      <th>Pur_3_years</th>\n",
       "      <td>2</td>\n",
       "      <td>1</td>\n",
       "      <td>5</td>\n",
       "      <td>1</td>\n",
       "      <td>3</td>\n",
       "    </tr>\n",
       "    <tr>\n",
       "      <th>Pur_5_years</th>\n",
       "      <td>17</td>\n",
       "      <td>7</td>\n",
       "      <td>12</td>\n",
       "      <td>11</td>\n",
       "      <td>15</td>\n",
       "    </tr>\n",
       "    <tr>\n",
       "      <th>Pur_3_years_Indirect</th>\n",
       "      <td>2</td>\n",
       "      <td>0</td>\n",
       "      <td>3</td>\n",
       "      <td>0</td>\n",
       "      <td>2</td>\n",
       "    </tr>\n",
       "    <tr>\n",
       "      <th>Pur_5_years_Indirect</th>\n",
       "      <td>4</td>\n",
       "      <td>3</td>\n",
       "      <td>5</td>\n",
       "      <td>3</td>\n",
       "      <td>7</td>\n",
       "    </tr>\n",
       "    <tr>\n",
       "      <th>Pur_latest</th>\n",
       "      <td>0.00</td>\n",
       "      <td>25.00</td>\n",
       "      <td>15.00</td>\n",
       "      <td>20.00</td>\n",
       "      <td>3.00</td>\n",
       "    </tr>\n",
       "    <tr>\n",
       "      <th>Pur_3_years_Avg</th>\n",
       "      <td>7.50</td>\n",
       "      <td>25.00</td>\n",
       "      <td>15.00</td>\n",
       "      <td>20.00</td>\n",
       "      <td>4.33</td>\n",
       "    </tr>\n",
       "    <tr>\n",
       "      <th>Pur_5_years_Avg</th>\n",
       "      <td>7.76</td>\n",
       "      <td>13.00</td>\n",
       "      <td>11.25</td>\n",
       "      <td>12.45</td>\n",
       "      <td>3.80</td>\n",
       "    </tr>\n",
       "    <tr>\n",
       "      <th>Pur_3_years_Avg_Indirect</th>\n",
       "      <td>7.50</td>\n",
       "      <td>NaN</td>\n",
       "      <td>14.67</td>\n",
       "      <td>NaN</td>\n",
       "      <td>4.00</td>\n",
       "    </tr>\n",
       "    <tr>\n",
       "      <th>InAct_Last</th>\n",
       "      <td>14</td>\n",
       "      <td>18</td>\n",
       "      <td>19</td>\n",
       "      <td>5</td>\n",
       "      <td>17</td>\n",
       "    </tr>\n",
       "    <tr>\n",
       "      <th>InAct_First</th>\n",
       "      <td>110</td>\n",
       "      <td>75</td>\n",
       "      <td>57</td>\n",
       "      <td>113</td>\n",
       "      <td>118</td>\n",
       "    </tr>\n",
       "    <tr>\n",
       "      <th>Ad_Res_1_year</th>\n",
       "      <td>32</td>\n",
       "      <td>13</td>\n",
       "      <td>14</td>\n",
       "      <td>17</td>\n",
       "      <td>13</td>\n",
       "    </tr>\n",
       "    <tr>\n",
       "      <th>Ad_Res_3_Year</th>\n",
       "      <td>48</td>\n",
       "      <td>35</td>\n",
       "      <td>35</td>\n",
       "      <td>38</td>\n",
       "      <td>28</td>\n",
       "    </tr>\n",
       "    <tr>\n",
       "      <th>Ad_Res_5_Year</th>\n",
       "      <td>73</td>\n",
       "      <td>55</td>\n",
       "      <td>53</td>\n",
       "      <td>71</td>\n",
       "      <td>63</td>\n",
       "    </tr>\n",
       "    <tr>\n",
       "      <th>Ad_Res_Ind_1_Year</th>\n",
       "      <td>3</td>\n",
       "      <td>6</td>\n",
       "      <td>6</td>\n",
       "      <td>8</td>\n",
       "      <td>6</td>\n",
       "    </tr>\n",
       "    <tr>\n",
       "      <th>Ad_Res_Ind_3_Year</th>\n",
       "      <td>12</td>\n",
       "      <td>6</td>\n",
       "      <td>17</td>\n",
       "      <td>8</td>\n",
       "      <td>12</td>\n",
       "    </tr>\n",
       "    <tr>\n",
       "      <th>Ad_Res_Ind_5_Year</th>\n",
       "      <td>16</td>\n",
       "      <td>22</td>\n",
       "      <td>22</td>\n",
       "      <td>33</td>\n",
       "      <td>24</td>\n",
       "    </tr>\n",
       "    <tr>\n",
       "      <th>Status_Cust</th>\n",
       "      <td>A</td>\n",
       "      <td>A</td>\n",
       "      <td>S</td>\n",
       "      <td>A</td>\n",
       "      <td>S</td>\n",
       "    </tr>\n",
       "    <tr>\n",
       "      <th>Status_Latest_Ad</th>\n",
       "      <td>0</td>\n",
       "      <td>1</td>\n",
       "      <td>1</td>\n",
       "      <td>0</td>\n",
       "      <td>1</td>\n",
       "    </tr>\n",
       "    <tr>\n",
       "      <th>Age</th>\n",
       "      <td>71.0</td>\n",
       "      <td>7.0</td>\n",
       "      <td>79.0</td>\n",
       "      <td>73.0</td>\n",
       "      <td>68.0</td>\n",
       "    </tr>\n",
       "    <tr>\n",
       "      <th>Gender</th>\n",
       "      <td>F</td>\n",
       "      <td>M</td>\n",
       "      <td>F</td>\n",
       "      <td>F</td>\n",
       "      <td>F</td>\n",
       "    </tr>\n",
       "    <tr>\n",
       "      <th>Cust_Prop</th>\n",
       "      <td>H</td>\n",
       "      <td>U</td>\n",
       "      <td>U</td>\n",
       "      <td>U</td>\n",
       "      <td>H</td>\n",
       "    </tr>\n",
       "    <tr>\n",
       "      <th>Cust_Ann_Income</th>\n",
       "      <td>65957.00</td>\n",
       "      <td>0.00</td>\n",
       "      <td>0.00</td>\n",
       "      <td>76293.00</td>\n",
       "      <td>113663.00</td>\n",
       "    </tr>\n",
       "  </tbody>\n",
       "</table>\n",
       "</div>"
      ],
      "text/plain": [
       "                                  0       1       2          3           4\n",
       "Potential_Customer                1       1       0          1           1\n",
       "C_ID                           9946   87939   88003     188721       88056\n",
       "Cust_Last_Purchase            5.00   30.00      NaN     20.00        5.00 \n",
       "Pur_3_years                       2       1       5          1           3\n",
       "Pur_5_years                      17       7      12         11          15\n",
       "Pur_3_years_Indirect              2       0       3          0           2\n",
       "Pur_5_years_Indirect              4       3       5          3           7\n",
       "Pur_latest                    0.00   25.00   15.00      20.00        3.00 \n",
       "Pur_3_years_Avg               7.50   25.00   15.00      20.00        4.33 \n",
       "Pur_5_years_Avg               7.76   13.00   11.25      12.45        3.80 \n",
       "Pur_3_years_Avg_Indirect      7.50      NaN  14.67         NaN       4.00 \n",
       "InAct_Last                       14      18      19          5          17\n",
       "InAct_First                     110      75      57        113         118\n",
       "Ad_Res_1_year                    32      13      14         17          13\n",
       "Ad_Res_3_Year                    48      35      35         38          28\n",
       "Ad_Res_5_Year                    73      55      53         71          63\n",
       "Ad_Res_Ind_1_Year                 3       6       6          8           6\n",
       "Ad_Res_Ind_3_Year                12       6      17          8          12\n",
       "Ad_Res_Ind_5_Year                16      22      22         33          24\n",
       "Status_Cust                       A       A       S          A           S\n",
       "Status_Latest_Ad                  0       1       1          0           1\n",
       "Age                            71.0     7.0    79.0       73.0        68.0\n",
       "Gender                            F       M       F          F           F\n",
       "Cust_Prop                         H       U       U          U           H\n",
       "Cust_Ann_Income           65957.00    0.00    0.00   76293.00   113663.00 "
      ]
     },
     "execution_count": 8,
     "metadata": {},
     "output_type": "execute_result"
    }
   ],
   "source": [
    "#1. data.col =data.col.str.replace('OldSign', 'NewSign')\n",
    "# replace '$',',' with ''?\n",
    "#fix missing values? \n",
    "\n",
    "PriceCol = ['Cust_Last_Purchase','Pur_latest','Pur_3_years_Avg', 'Pur_5_years_Avg', 'Pur_3_years_Avg_Indirect', 'Cust_Ann_Income']\n",
    "\n",
    "for col in PriceCol:\n",
    "    data[col] =data[col].str.replace('$', '')\n",
    "    data[col] =data[col].str.replace(',', '')\n",
    "    \n",
    "data.head(5).T"
   ]
  },
  {
   "cell_type": "code",
   "execution_count": 9,
   "metadata": {},
   "outputs": [
    {
     "name": "stdout",
     "output_type": "stream",
     "text": [
      "<class 'pandas.core.frame.DataFrame'>\n",
      "RangeIndex: 4469 entries, 0 to 4468\n",
      "Data columns (total 25 columns):\n",
      " #   Column                    Non-Null Count  Dtype  \n",
      "---  ------                    --------------  -----  \n",
      " 0   Potential_Customer        4469 non-null   int64  \n",
      " 1   C_ID                      4469 non-null   int64  \n",
      " 2   Cust_Last_Purchase        2149 non-null   object \n",
      " 3   Pur_3_years               4469 non-null   int64  \n",
      " 4   Pur_5_years               4469 non-null   int64  \n",
      " 5   Pur_3_years_Indirect      4469 non-null   int64  \n",
      " 6   Pur_5_years_Indirect      4469 non-null   int64  \n",
      " 7   Pur_latest                4469 non-null   object \n",
      " 8   Pur_3_years_Avg           4469 non-null   object \n",
      " 9   Pur_5_years_Avg           4469 non-null   object \n",
      " 10  Pur_3_years_Avg_Indirect  3642 non-null   object \n",
      " 11  InAct_Last                4469 non-null   int64  \n",
      " 12  InAct_First               4469 non-null   int64  \n",
      " 13  Ad_Res_1_year             4469 non-null   int64  \n",
      " 14  Ad_Res_3_Year             4469 non-null   int64  \n",
      " 15  Ad_Res_5_Year             4469 non-null   int64  \n",
      " 16  Ad_Res_Ind_1_Year         4469 non-null   int64  \n",
      " 17  Ad_Res_Ind_3_Year         4469 non-null   int64  \n",
      " 18  Ad_Res_Ind_5_Year         4469 non-null   int64  \n",
      " 19  Status_Cust               4469 non-null   object \n",
      " 20  Status_Latest_Ad          4469 non-null   int64  \n",
      " 21  Age                       3510 non-null   float64\n",
      " 22  Gender                    4469 non-null   object \n",
      " 23  Cust_Prop                 4469 non-null   object \n",
      " 24  Cust_Ann_Income           4469 non-null   object \n",
      "dtypes: float64(1), int64(15), object(9)\n",
      "memory usage: 873.0+ KB\n"
     ]
    }
   ],
   "source": [
    "data.info()"
   ]
  },
  {
   "cell_type": "code",
   "execution_count": 10,
   "metadata": {},
   "outputs": [],
   "source": [
    "#2. list of columns\n",
    "CatCols=['Potential_Customer','C_ID','Status_Cust','Status_Latest_Ad','Gender','Cust_Prop']\n",
    "NumCols=list(set(data.columns)-set(CatCols))"
   ]
  },
  {
   "cell_type": "code",
   "execution_count": 11,
   "metadata": {},
   "outputs": [],
   "source": [
    "#3. Fix type of columns\n",
    "data[CatCols] = data[CatCols].apply(lambda x: x.astype('category'))\n",
    "data[NumCols] = data[NumCols].apply(lambda x: x.astype('float64'))"
   ]
  },
  {
   "cell_type": "code",
   "execution_count": 12,
   "metadata": {},
   "outputs": [
    {
     "name": "stdout",
     "output_type": "stream",
     "text": [
      "<class 'pandas.core.frame.DataFrame'>\n",
      "RangeIndex: 4469 entries, 0 to 4468\n",
      "Data columns (total 25 columns):\n",
      " #   Column                    Non-Null Count  Dtype   \n",
      "---  ------                    --------------  -----   \n",
      " 0   Potential_Customer        4469 non-null   category\n",
      " 1   C_ID                      4469 non-null   category\n",
      " 2   Cust_Last_Purchase        2149 non-null   float64 \n",
      " 3   Pur_3_years               4469 non-null   float64 \n",
      " 4   Pur_5_years               4469 non-null   float64 \n",
      " 5   Pur_3_years_Indirect      4469 non-null   float64 \n",
      " 6   Pur_5_years_Indirect      4469 non-null   float64 \n",
      " 7   Pur_latest                4469 non-null   float64 \n",
      " 8   Pur_3_years_Avg           4469 non-null   float64 \n",
      " 9   Pur_5_years_Avg           4469 non-null   float64 \n",
      " 10  Pur_3_years_Avg_Indirect  3642 non-null   float64 \n",
      " 11  InAct_Last                4469 non-null   float64 \n",
      " 12  InAct_First               4469 non-null   float64 \n",
      " 13  Ad_Res_1_year             4469 non-null   float64 \n",
      " 14  Ad_Res_3_Year             4469 non-null   float64 \n",
      " 15  Ad_Res_5_Year             4469 non-null   float64 \n",
      " 16  Ad_Res_Ind_1_Year         4469 non-null   float64 \n",
      " 17  Ad_Res_Ind_3_Year         4469 non-null   float64 \n",
      " 18  Ad_Res_Ind_5_Year         4469 non-null   float64 \n",
      " 19  Status_Cust               4469 non-null   category\n",
      " 20  Status_Latest_Ad          4469 non-null   category\n",
      " 21  Age                       3510 non-null   float64 \n",
      " 22  Gender                    4469 non-null   category\n",
      " 23  Cust_Prop                 4469 non-null   category\n",
      " 24  Cust_Ann_Income           4469 non-null   float64 \n",
      "dtypes: category(6), float64(19)\n",
      "memory usage: 852.1 KB\n"
     ]
    }
   ],
   "source": [
    "data.info()"
   ]
  },
  {
   "cell_type": "code",
   "execution_count": null,
   "metadata": {},
   "outputs": [],
   "source": []
  },
  {
   "cell_type": "markdown",
   "metadata": {},
   "source": [
    "## 2.3 Check data for duplicate rows and remove the duplicates\n",
    "\n",
    "**Hint:**\n",
    "\n",
    "1. `data.duplicated()` will give you `True` if the row in `data` is duplicate and `False` otherwise.\n",
    "\n",
    "2. `duplicates.sum()` will tell you how many duplicates you have in `data`.\n",
    "\n",
    "3. `data=data.drop_duplicates()` will remove the duplicates"
   ]
  },
  {
   "cell_type": "code",
   "execution_count": 13,
   "metadata": {},
   "outputs": [],
   "source": [
    "duplicates = data.duplicated()"
   ]
  },
  {
   "cell_type": "code",
   "execution_count": 14,
   "metadata": {},
   "outputs": [
    {
     "data": {
      "text/plain": [
       "851"
      ]
     },
     "execution_count": 14,
     "metadata": {},
     "output_type": "execute_result"
    }
   ],
   "source": [
    "duplicates.sum()"
   ]
  },
  {
   "cell_type": "code",
   "execution_count": 15,
   "metadata": {},
   "outputs": [],
   "source": [
    "data=data.drop_duplicates()"
   ]
  },
  {
   "cell_type": "code",
   "execution_count": 16,
   "metadata": {},
   "outputs": [
    {
     "data": {
      "text/plain": [
       "0"
      ]
     },
     "execution_count": 16,
     "metadata": {},
     "output_type": "execute_result"
    }
   ],
   "source": [
    "#to check if duplicates were removed successfully\n",
    "duplicates_check = data.duplicated()\n",
    "duplicates_check.sum()"
   ]
  },
  {
   "cell_type": "markdown",
   "metadata": {},
   "source": [
    "## 2.4 Do we need `C_ID` in our analysis? Drop the columns you will not use in your analysis, if there is any.\n",
    "\n",
    "**Hint:** \n",
    "1. Drop the useless column(s)\n",
    "2. Remove the name of the column(s) from `CatCols` or `NumCols`\n",
    "    Example: CatCols.remove('C_ID')"
   ]
  },
  {
   "cell_type": "code",
   "execution_count": 17,
   "metadata": {},
   "outputs": [
    {
     "name": "stdout",
     "output_type": "stream",
     "text": [
      "<class 'pandas.core.frame.DataFrame'>\n",
      "Int64Index: 3618 entries, 0 to 3617\n",
      "Data columns (total 25 columns):\n",
      " #   Column                    Non-Null Count  Dtype   \n",
      "---  ------                    --------------  -----   \n",
      " 0   Potential_Customer        3618 non-null   category\n",
      " 1   C_ID                      3618 non-null   category\n",
      " 2   Cust_Last_Purchase        1736 non-null   float64 \n",
      " 3   Pur_3_years               3618 non-null   float64 \n",
      " 4   Pur_5_years               3618 non-null   float64 \n",
      " 5   Pur_3_years_Indirect      3618 non-null   float64 \n",
      " 6   Pur_5_years_Indirect      3618 non-null   float64 \n",
      " 7   Pur_latest                3618 non-null   float64 \n",
      " 8   Pur_3_years_Avg           3618 non-null   float64 \n",
      " 9   Pur_5_years_Avg           3618 non-null   float64 \n",
      " 10  Pur_3_years_Avg_Indirect  2956 non-null   float64 \n",
      " 11  InAct_Last                3618 non-null   float64 \n",
      " 12  InAct_First               3618 non-null   float64 \n",
      " 13  Ad_Res_1_year             3618 non-null   float64 \n",
      " 14  Ad_Res_3_Year             3618 non-null   float64 \n",
      " 15  Ad_Res_5_Year             3618 non-null   float64 \n",
      " 16  Ad_Res_Ind_1_Year         3618 non-null   float64 \n",
      " 17  Ad_Res_Ind_3_Year         3618 non-null   float64 \n",
      " 18  Ad_Res_Ind_5_Year         3618 non-null   float64 \n",
      " 19  Status_Cust               3618 non-null   category\n",
      " 20  Status_Latest_Ad          3618 non-null   category\n",
      " 21  Age                       2825 non-null   float64 \n",
      " 22  Gender                    3618 non-null   category\n",
      " 23  Cust_Prop                 3618 non-null   category\n",
      " 24  Cust_Ann_Income           3618 non-null   float64 \n",
      "dtypes: category(6), float64(19)\n",
      "memory usage: 748.1 KB\n"
     ]
    }
   ],
   "source": [
    "data.info()"
   ]
  },
  {
   "cell_type": "code",
   "execution_count": 18,
   "metadata": {},
   "outputs": [
    {
     "data": {
      "text/html": [
       "<div>\n",
       "<style scoped>\n",
       "    .dataframe tbody tr th:only-of-type {\n",
       "        vertical-align: middle;\n",
       "    }\n",
       "\n",
       "    .dataframe tbody tr th {\n",
       "        vertical-align: top;\n",
       "    }\n",
       "\n",
       "    .dataframe thead th {\n",
       "        text-align: right;\n",
       "    }\n",
       "</style>\n",
       "<table border=\"1\" class=\"dataframe\">\n",
       "  <thead>\n",
       "    <tr style=\"text-align: right;\">\n",
       "      <th></th>\n",
       "      <th>Potential_Customer</th>\n",
       "      <th>C_ID</th>\n",
       "      <th>Cust_Last_Purchase</th>\n",
       "      <th>Pur_3_years</th>\n",
       "      <th>Pur_5_years</th>\n",
       "      <th>Pur_3_years_Indirect</th>\n",
       "      <th>Pur_5_years_Indirect</th>\n",
       "      <th>Pur_latest</th>\n",
       "      <th>Pur_3_years_Avg</th>\n",
       "      <th>Pur_5_years_Avg</th>\n",
       "      <th>...</th>\n",
       "      <th>Ad_Res_5_Year</th>\n",
       "      <th>Ad_Res_Ind_1_Year</th>\n",
       "      <th>Ad_Res_Ind_3_Year</th>\n",
       "      <th>Ad_Res_Ind_5_Year</th>\n",
       "      <th>Status_Cust</th>\n",
       "      <th>Status_Latest_Ad</th>\n",
       "      <th>Age</th>\n",
       "      <th>Gender</th>\n",
       "      <th>Cust_Prop</th>\n",
       "      <th>Cust_Ann_Income</th>\n",
       "    </tr>\n",
       "  </thead>\n",
       "  <tbody>\n",
       "    <tr>\n",
       "      <th>0</th>\n",
       "      <td>1</td>\n",
       "      <td>9946</td>\n",
       "      <td>5.0</td>\n",
       "      <td>2.0</td>\n",
       "      <td>17.0</td>\n",
       "      <td>2.0</td>\n",
       "      <td>4.0</td>\n",
       "      <td>0.0</td>\n",
       "      <td>7.50</td>\n",
       "      <td>7.76</td>\n",
       "      <td>...</td>\n",
       "      <td>73.0</td>\n",
       "      <td>3.0</td>\n",
       "      <td>12.0</td>\n",
       "      <td>16.0</td>\n",
       "      <td>A</td>\n",
       "      <td>0</td>\n",
       "      <td>71.0</td>\n",
       "      <td>F</td>\n",
       "      <td>H</td>\n",
       "      <td>65957.0</td>\n",
       "    </tr>\n",
       "    <tr>\n",
       "      <th>1</th>\n",
       "      <td>1</td>\n",
       "      <td>87939</td>\n",
       "      <td>30.0</td>\n",
       "      <td>1.0</td>\n",
       "      <td>7.0</td>\n",
       "      <td>0.0</td>\n",
       "      <td>3.0</td>\n",
       "      <td>25.0</td>\n",
       "      <td>25.00</td>\n",
       "      <td>13.00</td>\n",
       "      <td>...</td>\n",
       "      <td>55.0</td>\n",
       "      <td>6.0</td>\n",
       "      <td>6.0</td>\n",
       "      <td>22.0</td>\n",
       "      <td>A</td>\n",
       "      <td>1</td>\n",
       "      <td>7.0</td>\n",
       "      <td>M</td>\n",
       "      <td>U</td>\n",
       "      <td>0.0</td>\n",
       "    </tr>\n",
       "    <tr>\n",
       "      <th>2</th>\n",
       "      <td>0</td>\n",
       "      <td>88003</td>\n",
       "      <td>NaN</td>\n",
       "      <td>5.0</td>\n",
       "      <td>12.0</td>\n",
       "      <td>3.0</td>\n",
       "      <td>5.0</td>\n",
       "      <td>15.0</td>\n",
       "      <td>15.00</td>\n",
       "      <td>11.25</td>\n",
       "      <td>...</td>\n",
       "      <td>53.0</td>\n",
       "      <td>6.0</td>\n",
       "      <td>17.0</td>\n",
       "      <td>22.0</td>\n",
       "      <td>S</td>\n",
       "      <td>1</td>\n",
       "      <td>79.0</td>\n",
       "      <td>F</td>\n",
       "      <td>U</td>\n",
       "      <td>0.0</td>\n",
       "    </tr>\n",
       "    <tr>\n",
       "      <th>3</th>\n",
       "      <td>1</td>\n",
       "      <td>188721</td>\n",
       "      <td>20.0</td>\n",
       "      <td>1.0</td>\n",
       "      <td>11.0</td>\n",
       "      <td>0.0</td>\n",
       "      <td>3.0</td>\n",
       "      <td>20.0</td>\n",
       "      <td>20.00</td>\n",
       "      <td>12.45</td>\n",
       "      <td>...</td>\n",
       "      <td>71.0</td>\n",
       "      <td>8.0</td>\n",
       "      <td>8.0</td>\n",
       "      <td>33.0</td>\n",
       "      <td>A</td>\n",
       "      <td>0</td>\n",
       "      <td>73.0</td>\n",
       "      <td>F</td>\n",
       "      <td>U</td>\n",
       "      <td>76293.0</td>\n",
       "    </tr>\n",
       "    <tr>\n",
       "      <th>4</th>\n",
       "      <td>1</td>\n",
       "      <td>88056</td>\n",
       "      <td>5.0</td>\n",
       "      <td>3.0</td>\n",
       "      <td>15.0</td>\n",
       "      <td>2.0</td>\n",
       "      <td>7.0</td>\n",
       "      <td>3.0</td>\n",
       "      <td>4.33</td>\n",
       "      <td>3.80</td>\n",
       "      <td>...</td>\n",
       "      <td>63.0</td>\n",
       "      <td>6.0</td>\n",
       "      <td>12.0</td>\n",
       "      <td>24.0</td>\n",
       "      <td>S</td>\n",
       "      <td>1</td>\n",
       "      <td>68.0</td>\n",
       "      <td>F</td>\n",
       "      <td>H</td>\n",
       "      <td>113663.0</td>\n",
       "    </tr>\n",
       "  </tbody>\n",
       "</table>\n",
       "<p>5 rows × 25 columns</p>\n",
       "</div>"
      ],
      "text/plain": [
       "  Potential_Customer    C_ID  Cust_Last_Purchase  Pur_3_years  Pur_5_years  \\\n",
       "0                  1    9946                 5.0          2.0         17.0   \n",
       "1                  1   87939                30.0          1.0          7.0   \n",
       "2                  0   88003                 NaN          5.0         12.0   \n",
       "3                  1  188721                20.0          1.0         11.0   \n",
       "4                  1   88056                 5.0          3.0         15.0   \n",
       "\n",
       "   Pur_3_years_Indirect  Pur_5_years_Indirect  Pur_latest  Pur_3_years_Avg  \\\n",
       "0                   2.0                   4.0         0.0             7.50   \n",
       "1                   0.0                   3.0        25.0            25.00   \n",
       "2                   3.0                   5.0        15.0            15.00   \n",
       "3                   0.0                   3.0        20.0            20.00   \n",
       "4                   2.0                   7.0         3.0             4.33   \n",
       "\n",
       "   Pur_5_years_Avg  ...  Ad_Res_5_Year  Ad_Res_Ind_1_Year  Ad_Res_Ind_3_Year  \\\n",
       "0             7.76  ...           73.0                3.0               12.0   \n",
       "1            13.00  ...           55.0                6.0                6.0   \n",
       "2            11.25  ...           53.0                6.0               17.0   \n",
       "3            12.45  ...           71.0                8.0                8.0   \n",
       "4             3.80  ...           63.0                6.0               12.0   \n",
       "\n",
       "   Ad_Res_Ind_5_Year  Status_Cust  Status_Latest_Ad   Age  Gender  Cust_Prop  \\\n",
       "0               16.0            A                 0  71.0       F          H   \n",
       "1               22.0            A                 1   7.0       M          U   \n",
       "2               22.0            S                 1  79.0       F          U   \n",
       "3               33.0            A                 0  73.0       F          U   \n",
       "4               24.0            S                 1  68.0       F          H   \n",
       "\n",
       "  Cust_Ann_Income  \n",
       "0         65957.0  \n",
       "1             0.0  \n",
       "2             0.0  \n",
       "3         76293.0  \n",
       "4        113663.0  \n",
       "\n",
       "[5 rows x 25 columns]"
      ]
     },
     "execution_count": 18,
     "metadata": {},
     "output_type": "execute_result"
    }
   ],
   "source": [
    "data.head()"
   ]
  },
  {
   "cell_type": "code",
   "execution_count": 19,
   "metadata": {},
   "outputs": [
    {
     "data": {
      "text/html": [
       "<div>\n",
       "<style scoped>\n",
       "    .dataframe tbody tr th:only-of-type {\n",
       "        vertical-align: middle;\n",
       "    }\n",
       "\n",
       "    .dataframe tbody tr th {\n",
       "        vertical-align: top;\n",
       "    }\n",
       "\n",
       "    .dataframe thead th {\n",
       "        text-align: right;\n",
       "    }\n",
       "</style>\n",
       "<table border=\"1\" class=\"dataframe\">\n",
       "  <thead>\n",
       "    <tr style=\"text-align: right;\">\n",
       "      <th></th>\n",
       "      <th>Potential_Customer</th>\n",
       "      <th>Pur_3_years</th>\n",
       "      <th>Pur_5_years</th>\n",
       "      <th>Pur_3_years_Indirect</th>\n",
       "      <th>Pur_5_years_Indirect</th>\n",
       "      <th>Pur_latest</th>\n",
       "      <th>Pur_3_years_Avg</th>\n",
       "      <th>Pur_5_years_Avg</th>\n",
       "      <th>Pur_3_years_Avg_Indirect</th>\n",
       "      <th>InAct_Last</th>\n",
       "      <th>...</th>\n",
       "      <th>Ad_Res_5_Year</th>\n",
       "      <th>Ad_Res_Ind_1_Year</th>\n",
       "      <th>Ad_Res_Ind_3_Year</th>\n",
       "      <th>Ad_Res_Ind_5_Year</th>\n",
       "      <th>Status_Cust</th>\n",
       "      <th>Status_Latest_Ad</th>\n",
       "      <th>Age</th>\n",
       "      <th>Gender</th>\n",
       "      <th>Cust_Prop</th>\n",
       "      <th>Cust_Ann_Income</th>\n",
       "    </tr>\n",
       "  </thead>\n",
       "  <tbody>\n",
       "    <tr>\n",
       "      <th>0</th>\n",
       "      <td>1</td>\n",
       "      <td>2.0</td>\n",
       "      <td>17.0</td>\n",
       "      <td>2.0</td>\n",
       "      <td>4.0</td>\n",
       "      <td>0.0</td>\n",
       "      <td>7.50</td>\n",
       "      <td>7.76</td>\n",
       "      <td>7.50</td>\n",
       "      <td>14.0</td>\n",
       "      <td>...</td>\n",
       "      <td>73.0</td>\n",
       "      <td>3.0</td>\n",
       "      <td>12.0</td>\n",
       "      <td>16.0</td>\n",
       "      <td>A</td>\n",
       "      <td>0</td>\n",
       "      <td>71.0</td>\n",
       "      <td>F</td>\n",
       "      <td>H</td>\n",
       "      <td>65957.0</td>\n",
       "    </tr>\n",
       "    <tr>\n",
       "      <th>1</th>\n",
       "      <td>1</td>\n",
       "      <td>1.0</td>\n",
       "      <td>7.0</td>\n",
       "      <td>0.0</td>\n",
       "      <td>3.0</td>\n",
       "      <td>25.0</td>\n",
       "      <td>25.00</td>\n",
       "      <td>13.00</td>\n",
       "      <td>NaN</td>\n",
       "      <td>18.0</td>\n",
       "      <td>...</td>\n",
       "      <td>55.0</td>\n",
       "      <td>6.0</td>\n",
       "      <td>6.0</td>\n",
       "      <td>22.0</td>\n",
       "      <td>A</td>\n",
       "      <td>1</td>\n",
       "      <td>7.0</td>\n",
       "      <td>M</td>\n",
       "      <td>U</td>\n",
       "      <td>0.0</td>\n",
       "    </tr>\n",
       "    <tr>\n",
       "      <th>2</th>\n",
       "      <td>0</td>\n",
       "      <td>5.0</td>\n",
       "      <td>12.0</td>\n",
       "      <td>3.0</td>\n",
       "      <td>5.0</td>\n",
       "      <td>15.0</td>\n",
       "      <td>15.00</td>\n",
       "      <td>11.25</td>\n",
       "      <td>14.67</td>\n",
       "      <td>19.0</td>\n",
       "      <td>...</td>\n",
       "      <td>53.0</td>\n",
       "      <td>6.0</td>\n",
       "      <td>17.0</td>\n",
       "      <td>22.0</td>\n",
       "      <td>S</td>\n",
       "      <td>1</td>\n",
       "      <td>79.0</td>\n",
       "      <td>F</td>\n",
       "      <td>U</td>\n",
       "      <td>0.0</td>\n",
       "    </tr>\n",
       "    <tr>\n",
       "      <th>3</th>\n",
       "      <td>1</td>\n",
       "      <td>1.0</td>\n",
       "      <td>11.0</td>\n",
       "      <td>0.0</td>\n",
       "      <td>3.0</td>\n",
       "      <td>20.0</td>\n",
       "      <td>20.00</td>\n",
       "      <td>12.45</td>\n",
       "      <td>NaN</td>\n",
       "      <td>5.0</td>\n",
       "      <td>...</td>\n",
       "      <td>71.0</td>\n",
       "      <td>8.0</td>\n",
       "      <td>8.0</td>\n",
       "      <td>33.0</td>\n",
       "      <td>A</td>\n",
       "      <td>0</td>\n",
       "      <td>73.0</td>\n",
       "      <td>F</td>\n",
       "      <td>U</td>\n",
       "      <td>76293.0</td>\n",
       "    </tr>\n",
       "    <tr>\n",
       "      <th>4</th>\n",
       "      <td>1</td>\n",
       "      <td>3.0</td>\n",
       "      <td>15.0</td>\n",
       "      <td>2.0</td>\n",
       "      <td>7.0</td>\n",
       "      <td>3.0</td>\n",
       "      <td>4.33</td>\n",
       "      <td>3.80</td>\n",
       "      <td>4.00</td>\n",
       "      <td>17.0</td>\n",
       "      <td>...</td>\n",
       "      <td>63.0</td>\n",
       "      <td>6.0</td>\n",
       "      <td>12.0</td>\n",
       "      <td>24.0</td>\n",
       "      <td>S</td>\n",
       "      <td>1</td>\n",
       "      <td>68.0</td>\n",
       "      <td>F</td>\n",
       "      <td>H</td>\n",
       "      <td>113663.0</td>\n",
       "    </tr>\n",
       "  </tbody>\n",
       "</table>\n",
       "<p>5 rows × 23 columns</p>\n",
       "</div>"
      ],
      "text/plain": [
       "  Potential_Customer  Pur_3_years  Pur_5_years  Pur_3_years_Indirect  \\\n",
       "0                  1          2.0         17.0                   2.0   \n",
       "1                  1          1.0          7.0                   0.0   \n",
       "2                  0          5.0         12.0                   3.0   \n",
       "3                  1          1.0         11.0                   0.0   \n",
       "4                  1          3.0         15.0                   2.0   \n",
       "\n",
       "   Pur_5_years_Indirect  Pur_latest  Pur_3_years_Avg  Pur_5_years_Avg  \\\n",
       "0                   4.0         0.0             7.50             7.76   \n",
       "1                   3.0        25.0            25.00            13.00   \n",
       "2                   5.0        15.0            15.00            11.25   \n",
       "3                   3.0        20.0            20.00            12.45   \n",
       "4                   7.0         3.0             4.33             3.80   \n",
       "\n",
       "   Pur_3_years_Avg_Indirect  InAct_Last  ...  Ad_Res_5_Year  \\\n",
       "0                      7.50        14.0  ...           73.0   \n",
       "1                       NaN        18.0  ...           55.0   \n",
       "2                     14.67        19.0  ...           53.0   \n",
       "3                       NaN         5.0  ...           71.0   \n",
       "4                      4.00        17.0  ...           63.0   \n",
       "\n",
       "   Ad_Res_Ind_1_Year  Ad_Res_Ind_3_Year  Ad_Res_Ind_5_Year  Status_Cust  \\\n",
       "0                3.0               12.0               16.0            A   \n",
       "1                6.0                6.0               22.0            A   \n",
       "2                6.0               17.0               22.0            S   \n",
       "3                8.0                8.0               33.0            A   \n",
       "4                6.0               12.0               24.0            S   \n",
       "\n",
       "   Status_Latest_Ad   Age Gender Cust_Prop  Cust_Ann_Income  \n",
       "0                 0  71.0      F         H          65957.0  \n",
       "1                 1   7.0      M         U              0.0  \n",
       "2                 1  79.0      F         U              0.0  \n",
       "3                 0  73.0      F         U          76293.0  \n",
       "4                 1  68.0      F         H         113663.0  \n",
       "\n",
       "[5 rows x 23 columns]"
      ]
     },
     "execution_count": 19,
     "metadata": {},
     "output_type": "execute_result"
    }
   ],
   "source": [
    "#1. Useless columns: C_ID, Cust_Last_Purchase\n",
    "data_new = data.drop(columns=['C_ID','Cust_Last_Purchase'])\n",
    "data_new.head()"
   ]
  },
  {
   "cell_type": "code",
   "execution_count": 20,
   "metadata": {},
   "outputs": [
    {
     "data": {
      "text/plain": [
       "['Potential_Customer',\n",
       " 'Status_Cust',\n",
       " 'Status_Latest_Ad',\n",
       " 'Gender',\n",
       " 'Cust_Prop']"
      ]
     },
     "execution_count": 20,
     "metadata": {},
     "output_type": "execute_result"
    }
   ],
   "source": [
    "#2. Remove dropped \n",
    "CatCols.remove('C_ID')\n",
    "CatCols"
   ]
  },
  {
   "cell_type": "code",
   "execution_count": 21,
   "metadata": {},
   "outputs": [
    {
     "data": {
      "text/plain": [
       "['Pur_3_years_Avg_Indirect',\n",
       " 'Pur_5_years_Avg',\n",
       " 'InAct_Last',\n",
       " 'Pur_latest',\n",
       " 'InAct_First',\n",
       " 'Cust_Ann_Income',\n",
       " 'Ad_Res_3_Year',\n",
       " 'Pur_3_years_Indirect',\n",
       " 'Pur_5_years_Indirect',\n",
       " 'Ad_Res_Ind_5_Year',\n",
       " 'Ad_Res_Ind_1_Year',\n",
       " 'Age',\n",
       " 'Pur_3_years',\n",
       " 'Pur_5_years',\n",
       " 'Ad_Res_1_year',\n",
       " 'Ad_Res_5_Year',\n",
       " 'Ad_Res_Ind_3_Year',\n",
       " 'Pur_3_years_Avg']"
      ]
     },
     "execution_count": 21,
     "metadata": {},
     "output_type": "execute_result"
    }
   ],
   "source": [
    "NumCols.remove('Cust_Last_Purchase')\n",
    "NumCols"
   ]
  },
  {
   "cell_type": "markdown",
   "metadata": {},
   "source": [
    "# 3. Exploratory Data Analysis (EDA)\n",
    "    \n",
    "Checking the relationship between variables, summary of data, outliers, filling missing values etc.\n",
    "**If the ultimate goal is designing predictive models on the data, and we use EDA as part of the proprocessing, we are NOT allowed to do EDA on the test set.** However, if you only do EDA to get business insight from the data, you **CAN** use the whole data, if you don't use that insight for data preprocessing such as data cleaning.\n",
    "    \n",
    "**Example:** To impute the missing values by mean/median, we calculate the mean or the median on the Train set only and then we impute the missing values by that mean/median on both Train and Test data."
   ]
  },
  {
   "cell_type": "code",
   "execution_count": null,
   "metadata": {},
   "outputs": [],
   "source": []
  },
  {
   "cell_type": "code",
   "execution_count": 22,
   "metadata": {},
   "outputs": [
    {
     "data": {
      "text/plain": [
       "A    2146\n",
       "S     964\n",
       "F     219\n",
       "N     207\n",
       "E      72\n",
       "L      10\n",
       "Name: Status_Cust, dtype: int64"
      ]
     },
     "execution_count": 22,
     "metadata": {},
     "output_type": "execute_result"
    }
   ],
   "source": [
    " data['Status_Cust'].value_counts()"
   ]
  },
  {
   "cell_type": "markdown",
   "metadata": {},
   "source": [
    "## 3.1 Explore Categorical Variables\n",
    "1. How many categories in each categorical variables?\n",
    "2. What proportion/percentage from each category?\n",
    "\n",
    "**Hint:**\n",
    "For visualization you can use `sns.countplot()` for each categorical variable\n"
   ]
  },
  {
   "cell_type": "code",
   "execution_count": 89,
   "metadata": {},
   "outputs": [
    {
     "name": "stdout",
     "output_type": "stream",
     "text": [
      "Column : Potential_Customer\n"
     ]
    },
    {
     "data": {
      "image/png": "[encoded data removed]",
      "text/plain": [
       "<Figure size 432x288 with 1 Axes>"
      ]
     },
     "metadata": {
      "needs_background": "light"
     },
     "output_type": "display_data"
    },
    {
     "name": "stdout",
     "output_type": "stream",
     "text": [
      "[1, 0]\n",
      "Categories (2, int64): [1, 0]\n",
      "\n",
      "Percentage for each Catagory (%):\n",
      "0    52.0\n",
      "1    48.0\n",
      "Name: Potential_Customer, dtype: float64\n",
      "\n",
      "\n",
      "Column : Status_Cust\n"
     ]
    },
    {
     "data": {
      "image/png": "[encoded data removed]",
      "text/plain": [
       "<Figure size 432x288 with 1 Axes>"
      ]
     },
     "metadata": {
      "needs_background": "light"
     },
     "output_type": "display_data"
    },
    {
     "name": "stdout",
     "output_type": "stream",
     "text": [
      "['A', 'S', 'E', 'F', 'N', 'L']\n",
      "Categories (6, object): ['A', 'S', 'E', 'F', 'N', 'L']\n",
      "\n",
      "Percentage for each Catagory (%):\n",
      "A    59.3\n",
      "S    26.6\n",
      "F     6.1\n",
      "N     5.7\n",
      "E     2.0\n",
      "L     0.3\n",
      "Name: Status_Cust, dtype: float64\n",
      "\n",
      "\n",
      "Column : Status_Latest_Ad\n"
     ]
    },
    {
     "data": {
      "image/png": "[encoded data removed]",
      "text/plain": [
       "<Figure size 432x288 with 1 Axes>"
      ]
     },
     "metadata": {
      "needs_background": "light"
     },
     "output_type": "display_data"
    },
    {
     "name": "stdout",
     "output_type": "stream",
     "text": [
      "[0, 1]\n",
      "Categories (2, int64): [0, 1]\n",
      "\n",
      "Percentage for each Catagory (%):\n",
      "1    56.9\n",
      "0    43.1\n",
      "Name: Status_Latest_Ad, dtype: float64\n",
      "\n",
      "\n",
      "Column : Gender\n"
     ]
    },
    {
     "data": {
      "image/png": "[encoded data removed]",
      "text/plain": [
       "<Figure size 432x288 with 1 Axes>"
      ]
     },
     "metadata": {
      "needs_background": "light"
     },
     "output_type": "display_data"
    },
    {
     "name": "stdout",
     "output_type": "stream",
     "text": [
      "['F', 'M', 'U']\n",
      "Categories (3, object): ['F', 'M', 'U']\n",
      "\n",
      "Percentage for each Catagory (%):\n",
      "F    53.1\n",
      "M    42.3\n",
      "U     4.6\n",
      "Name: Gender, dtype: float64\n",
      "\n",
      "\n",
      "Column : Cust_Prop\n"
     ]
    },
    {
     "data": {
      "image/png": "[encoded data removed]",
      "text/plain": [
       "<Figure size 432x288 with 1 Axes>"
      ]
     },
     "metadata": {
      "needs_background": "light"
     },
     "output_type": "display_data"
    },
    {
     "name": "stdout",
     "output_type": "stream",
     "text": [
      "['H', 'U']\n",
      "Categories (2, object): ['H', 'U']\n",
      "\n",
      "Percentage for each Catagory (%):\n",
      "H    54.8\n",
      "U    45.2\n",
      "Name: Cust_Prop, dtype: float64\n",
      "\n",
      "\n"
     ]
    }
   ],
   "source": [
    "for col in CatCols:\n",
    "    print('Column : {}'.format(col))\n",
    "    sns.countplot(x=col, data=data)\n",
    "    plt.show()\n",
    "    print(data[col].unique())\n",
    "    print('\\nPercentage for each Catagory (%):')\n",
    "    print(round(data[col].value_counts(normalize = True),3)*100)\n",
    "    print('\\n')"
   ]
  },
  {
   "cell_type": "code",
   "execution_count": 23,
   "metadata": {},
   "outputs": [
    {
     "ename": "NameError",
     "evalue": "name 'age' is not defined",
     "output_type": "error",
     "traceback": [
      "\u001b[1;31m---------------------------------------------------------------------------\u001b[0m",
      "\u001b[1;31mNameError\u001b[0m                                 Traceback (most recent call last)",
      "\u001b[1;32m<ipython-input-23-282f1209f5f3>\u001b[0m in \u001b[0;36m<module>\u001b[1;34m\u001b[0m\n\u001b[1;32m----> 1\u001b[1;33m \u001b[0mage\u001b[0m\u001b[1;33m.\u001b[0m\u001b[0mmedian\u001b[0m\u001b[1;33m\u001b[0m\u001b[1;33m\u001b[0m\u001b[0m\n\u001b[0m",
      "\u001b[1;31mNameError\u001b[0m: name 'age' is not defined"
     ]
    }
   ],
   "source": [
    "age.median\n"
   ]
  },
  {
   "cell_type": "markdown",
   "metadata": {},
   "source": [
    "### 3.1.1 Insight"
   ]
  },
  {
   "cell_type": "code",
   "execution_count": null,
   "metadata": {},
   "outputs": [],
   "source": []
  },
  {
   "cell_type": "markdown",
   "metadata": {},
   "source": [
    "### 3.1.2 Solution"
   ]
  },
  {
   "cell_type": "code",
   "execution_count": null,
   "metadata": {},
   "outputs": [],
   "source": []
  },
  {
   "cell_type": "markdown",
   "metadata": {},
   "source": [
    "## 3.2 Explore Relationship Between Categorical & Target Variable. Interpret the observation\n",
    "\n",
    "**Hint**: \n",
    "1. Create list of the categorical features:\n",
    "    `CatFes=list(set(CatCols)-set(['Potential_Customer']))`\n",
    "\n",
    "2. use `sns.countplot()` to create subplots for each categorical feature and hue=`data.Potential_Customer` to assign color to the plot based on the target variable `Potential_Customer`"
   ]
  },
  {
   "cell_type": "code",
   "execution_count": 90,
   "metadata": {
    "scrolled": false
   },
   "outputs": [],
   "source": [
    "CatFes=list(set(CatCols)-set(['Potential_Customer']))"
   ]
  },
  {
   "cell_type": "code",
   "execution_count": 319,
   "metadata": {},
   "outputs": [
    {
     "name": "stdout",
     "output_type": "stream",
     "text": [
      "Column : Gender\n"
     ]
    },
    {
     "data": {
      "image/png": "[encoded data removed]",
      "text/plain": [
       "<Figure size 432x288 with 1 Axes>"
      ]
     },
     "metadata": {
      "needs_background": "light"
     },
     "output_type": "display_data"
    },
    {
     "name": "stdout",
     "output_type": "stream",
     "text": [
      "['F', 'M', 'U']\n",
      "Categories (3, object): ['F', 'M', 'U']\n",
      "\n",
      "\n",
      "Column : Cust_Prop\n"
     ]
    },
    {
     "data": {
      "image/png": "[encoded data removed]",
      "text/plain": [
       "<Figure size 432x288 with 1 Axes>"
      ]
     },
     "metadata": {
      "needs_background": "light"
     },
     "output_type": "display_data"
    },
    {
     "name": "stdout",
     "output_type": "stream",
     "text": [
      "['H', 'U']\n",
      "Categories (2, object): ['H', 'U']\n",
      "\n",
      "\n",
      "Column : Status_Latest_Ad\n"
     ]
    },
    {
     "data": {
      "image/png": "[encoded data removed]",
      "text/plain": [
       "<Figure size 432x288 with 1 Axes>"
      ]
     },
     "metadata": {
      "needs_background": "light"
     },
     "output_type": "display_data"
    },
    {
     "name": "stdout",
     "output_type": "stream",
     "text": [
      "[0, 1]\n",
      "Categories (2, int64): [0, 1]\n",
      "\n",
      "\n",
      "Column : Status_Cust\n"
     ]
    },
    {
     "data": {
      "image/png": "[encoded data removed]",
      "text/plain": [
       "<Figure size 432x288 with 1 Axes>"
      ]
     },
     "metadata": {
      "needs_background": "light"
     },
     "output_type": "display_data"
    },
    {
     "name": "stdout",
     "output_type": "stream",
     "text": [
      "['A', 'S', 'E', 'F', 'N', 'L']\n",
      "Categories (6, object): ['A', 'S', 'E', 'F', 'N', 'L']\n",
      "\n",
      "\n"
     ]
    }
   ],
   "source": [
    "for col in CatFes:\n",
    "    print('Column : {}'.format(col))\n",
    "    sns.countplot(x=col, data=data, hue=data.Potential_Customer)\n",
    "    plt.show()\n",
    "    print(data[col].unique())\n",
    "    print('\\n')"
   ]
  },
  {
   "cell_type": "markdown",
   "metadata": {},
   "source": [
    "### 3.2.1. Insight"
   ]
  },
  {
   "cell_type": "code",
   "execution_count": null,
   "metadata": {},
   "outputs": [],
   "source": []
  },
  {
   "cell_type": "markdown",
   "metadata": {},
   "source": [
    "## 3.3 Explore Numerical Variables\n",
    "\n",
    "**Hint**: use `sns.distplot()` and `sns.boxplot()`"
   ]
  },
  {
   "cell_type": "code",
   "execution_count": 322,
   "metadata": {
    "scrolled": false
   },
   "outputs": [
    {
     "data": {
      "image/png": "[encoded data removed]",
      "text/plain": [
       "<Figure size 1440x2880 with 36 Axes>"
      ]
     },
     "metadata": {
      "needs_background": "light"
     },
     "output_type": "display_data"
    }
   ],
   "source": [
    "plt.figure(figsize=(20,40))\n",
    "i = 0\n",
    "for col in NumCols:\n",
    "    plt.subplot(10, 4, (i+1)*2-1)\n",
    "    sns.boxplot(y = data[NumCols[i]], data=data)\n",
    "    plt.subplot(10, 4, (i+1)*2)\n",
    "    sns.distplot(x = data[NumCols[i]],label=NumCols[i])\n",
    "    i += 1\n"
   ]
  },
  {
   "cell_type": "markdown",
   "metadata": {},
   "source": [
    "### 3.3.1 Insight"
   ]
  },
  {
   "cell_type": "code",
   "execution_count": null,
   "metadata": {},
   "outputs": [],
   "source": []
  },
  {
   "cell_type": "markdown",
   "metadata": {},
   "source": [
    "## 3.4 Explore the Relationship between Numerical Variables & Target Variable. Interpret your observation"
   ]
  },
  {
   "cell_type": "code",
   "execution_count": 329,
   "metadata": {},
   "outputs": [
    {
     "data": {
      "image/png": "[encoded data removed]",
      "text/plain": [
       "<Figure size 1440x2880 with 18 Axes>"
      ]
     },
     "metadata": {
      "needs_background": "light"
     },
     "output_type": "display_data"
    }
   ],
   "source": [
    "#maybe add a violin plot too\n",
    "plt.figure(figsize=(20,40))\n",
    "i = 0\n",
    "for col in NumCols:\n",
    "    plt.subplot(6, 3, i+1)\n",
    "    sns.boxplot(y = data[NumCols[i]], x = data['Potential_Customer'],data=data)\n",
    "    i += 1"
   ]
  },
  {
   "cell_type": "code",
   "execution_count": null,
   "metadata": {},
   "outputs": [],
   "source": []
  },
  {
   "cell_type": "markdown",
   "metadata": {},
   "source": [
    "## 3.5 Explore the Relationship between the columns and try to answer the following questions:\n",
    "\n",
    "1. Is there any significant difference between men/women's salary?\n",
    "\n",
    "2. Is there any significant difference between men/women's number of the purchase in the last three years?\n",
    "\n",
    "3. Is there any significant difference between men/women's average purchase in the last three years?\n",
    "\n",
    "4. Is there any significant difference between men/women's total purchase in the last three years?\n",
    "\n",
    "5. (optional) You can explore more about the relationships between the columns, if you believe the insight will improve some dicisions in this company. For instance, sending advertisements to customers regarding gender, customer status, etc."
   ]
  },
  {
   "cell_type": "code",
   "execution_count": 330,
   "metadata": {},
   "outputs": [
    {
     "data": {
      "text/plain": [
       "<AxesSubplot:xlabel='Gender', ylabel='Cust_Ann_Income'>"
      ]
     },
     "execution_count": 330,
     "metadata": {},
     "output_type": "execute_result"
    },
    {
     "data": {
      "image/png": "[encoded data removed]",
      "text/plain": [
       "<Figure size 432x288 with 1 Axes>"
      ]
     },
     "metadata": {
      "needs_background": "light"
     },
     "output_type": "display_data"
    }
   ],
   "source": [
    "#1.\n",
    "sns.boxplot(x = data['Gender'], y = data['Cust_Ann_Income'], data=data)"
   ]
  },
  {
   "cell_type": "code",
   "execution_count": 333,
   "metadata": {},
   "outputs": [
    {
     "data": {
      "text/plain": [
       "<AxesSubplot:xlabel='Gender', ylabel='Pur_3_years'>"
      ]
     },
     "execution_count": 333,
     "metadata": {},
     "output_type": "execute_result"
    },
    {
     "data": {
      "image/png": "[encoded data removed]",
      "text/plain": [
       "<Figure size 432x288 with 1 Axes>"
      ]
     },
     "metadata": {
      "needs_background": "light"
     },
     "output_type": "display_data"
    }
   ],
   "source": [
    "#2\n",
    "sns.boxplot(x = data['Gender'], y = data['Pur_3_years'], data=data)"
   ]
  },
  {
   "cell_type": "code",
   "execution_count": 334,
   "metadata": {},
   "outputs": [
    {
     "data": {
      "text/plain": [
       "<AxesSubplot:xlabel='Gender', ylabel='Pur_3_years_Avg'>"
      ]
     },
     "execution_count": 334,
     "metadata": {},
     "output_type": "execute_result"
    },
    {
     "data": {
      "image/png": "[encoded data removed]",
      "text/plain": [
       "<Figure size 432x288 with 1 Axes>"
      ]
     },
     "metadata": {
      "needs_background": "light"
     },
     "output_type": "display_data"
    }
   ],
   "source": [
    "#3.\n",
    "sns.boxplot(x = data['Gender'], y = data['Pur_3_years_Avg'], data=data)"
   ]
  },
  {
   "cell_type": "code",
   "execution_count": 337,
   "metadata": {},
   "outputs": [
    {
     "data": {
      "text/plain": [
       "<AxesSubplot:xlabel='Gender'>"
      ]
     },
     "execution_count": 337,
     "metadata": {},
     "output_type": "execute_result"
    },
    {
     "data": {
      "image/png": "[encoded data removed]",
      "text/plain": [
       "<Figure size 432x288 with 1 Axes>"
      ]
     },
     "metadata": {
      "needs_background": "light"
     },
     "output_type": "display_data"
    }
   ],
   "source": [
    "#4.\n",
    "sns.boxplot(x = data['Gender'], y = data['Pur_3_years']*data['Pur_3_years_Avg'], data=data)"
   ]
  },
  {
   "cell_type": "code",
   "execution_count": null,
   "metadata": {},
   "outputs": [],
   "source": []
  },
  {
   "cell_type": "markdown",
   "metadata": {},
   "source": [
    "# 4. Feature Enginearing"
   ]
  },
  {
   "cell_type": "markdown",
   "metadata": {},
   "source": [
    "## 4.1 Add Some High Level Features and explore their relationship with the target variable\n",
    "\n",
    "Sometimes we can use high level features that reflect the interactions between the columns as new features to get better insight and feed more information to our predictive models. Also transformation of some columns can be better options to be fed to the models. For instance, instead of a numerical column, you can use log of the column, square of the column, or any other transformation of the column. The type of interaction, or transformation you should choose, can be defined after Exploratory data analysis or just business insight.\n",
    "\n",
    "**Example:** Instead of two variables for the number of purchase, and the average amount of purchase, we could calculate the total amount of purchase for the customers. "
   ]
  },
  {
   "cell_type": "code",
   "execution_count": null,
   "metadata": {},
   "outputs": [],
   "source": []
  },
  {
   "cell_type": "code",
   "execution_count": null,
   "metadata": {},
   "outputs": [],
   "source": []
  },
  {
   "cell_type": "code",
   "execution_count": null,
   "metadata": {
    "scrolled": false
   },
   "outputs": [],
   "source": []
  },
  {
   "cell_type": "markdown",
   "metadata": {},
   "source": [
    "## 4.2 Check Correlation between Numerical Variables"
   ]
  },
  {
   "cell_type": "code",
   "execution_count": null,
   "metadata": {},
   "outputs": [],
   "source": []
  },
  {
   "cell_type": "markdown",
   "metadata": {},
   "source": [
    "# 5. Feature Selection\n",
    "\n",
    "It is better we do not have numerical columns with high correlations as they confuse the machine learning algorithms. We can manually remove the highly-correlated features, or we can let the PCA handles that during the pre-processing."
   ]
  },
  {
   "cell_type": "markdown",
   "metadata": {},
   "source": [
    "# 6. Data PreProcessing"
   ]
  },
  {
   "cell_type": "markdown",
   "metadata": {},
   "source": [
    "## 6.1 Check the Data for Missing Values\n",
    "**Hint:**\n",
    "1. Check which columns have missing values\n",
    "\n",
    "2. Create a list of the name of the columns that have missing values\n",
    "    `null_columns=data.columns[data.isnull().any()]`\n",
    "   \n",
    "3. Decide how you should handle the missing values for each column:\n",
    "\n",
    "    a. For some numerical columns missing value simply means 0.\n",
    "    \n",
    "    b. We can fill missing values in a numerical column by replacing mean of the column, if the column is not skewed. If the column is skewed, median might be a better option.\n",
    "    \n",
    " **Attention:** If you decide to impute the missing values with mean/median, you need to calculate mean/median in the train set and then fill the missing values on both train and test with them. The similar rule applies for handling outliers IF you decide to replace outliers with lower/upper fence. You can calculate the UF/LF on the train set only. For this capstone, it is totally up to you to decide replacing the outliers or just using an appropriate scaling technique."
   ]
  },
  {
   "cell_type": "code",
   "execution_count": 136,
   "metadata": {},
   "outputs": [
    {
     "data": {
      "text/plain": [
       "Index(['Cust_Last_Purchase', 'Pur_3_years_Avg_Indirect', 'Age'], dtype='object')"
      ]
     },
     "execution_count": 136,
     "metadata": {},
     "output_type": "execute_result"
    }
   ],
   "source": [
    "null_columns=data.columns[data.isnull().any()]\n",
    "null_columns"
   ]
  },
  {
   "cell_type": "code",
   "execution_count": 137,
   "metadata": {},
   "outputs": [],
   "source": [
    "#remove missing value\n",
    "\n",
    "data['Pur_3_years_Avg_Indirect'].fillna(0, inplace=True)"
   ]
  },
  {
   "cell_type": "code",
   "execution_count": 138,
   "metadata": {},
   "outputs": [
    {
     "data": {
      "text/plain": [
       "Index(['Cust_Last_Purchase', 'Age'], dtype='object')"
      ]
     },
     "execution_count": 138,
     "metadata": {},
     "output_type": "execute_result"
    }
   ],
   "source": [
    "null_columns=data.columns[data.isnull().any()]\n",
    "null_columns"
   ]
  },
  {
   "cell_type": "markdown",
   "metadata": {},
   "source": [
    "## 6.1 Separate X (features) and y (target)\n",
    "\n",
    "**Attention:** Don't forget to exclude the column `Cust_Last_Purchase` from your analysis\n",
    "Define X and y and split the data into 75/25 train/test set. Use random_state=42 and stratify=y"
   ]
  },
  {
   "cell_type": "code",
   "execution_count": 139,
   "metadata": {},
   "outputs": [],
   "source": [
    "X = data.drop(columns=['Potential_Customer'])\n",
    "y = data['Potential_Customer']"
   ]
  },
  {
   "cell_type": "code",
   "execution_count": 95,
   "metadata": {},
   "outputs": [
    {
     "data": {
      "text/html": [
       "<div>\n",
       "<style scoped>\n",
       "    .dataframe tbody tr th:only-of-type {\n",
       "        vertical-align: middle;\n",
       "    }\n",
       "\n",
       "    .dataframe tbody tr th {\n",
       "        vertical-align: top;\n",
       "    }\n",
       "\n",
       "    .dataframe thead th {\n",
       "        text-align: right;\n",
       "    }\n",
       "</style>\n",
       "<table border=\"1\" class=\"dataframe\">\n",
       "  <thead>\n",
       "    <tr style=\"text-align: right;\">\n",
       "      <th></th>\n",
       "      <th>Pur_3_years</th>\n",
       "      <th>Pur_5_years</th>\n",
       "      <th>Pur_3_years_Indirect</th>\n",
       "      <th>Pur_5_years_Indirect</th>\n",
       "      <th>Pur_latest</th>\n",
       "      <th>Pur_3_years_Avg</th>\n",
       "      <th>Pur_5_years_Avg</th>\n",
       "      <th>Pur_3_years_Avg_Indirect</th>\n",
       "      <th>InAct_Last</th>\n",
       "      <th>InAct_First</th>\n",
       "      <th>...</th>\n",
       "      <th>Ad_Res_5_Year</th>\n",
       "      <th>Ad_Res_Ind_1_Year</th>\n",
       "      <th>Ad_Res_Ind_3_Year</th>\n",
       "      <th>Ad_Res_Ind_5_Year</th>\n",
       "      <th>Status_Cust</th>\n",
       "      <th>Status_Latest_Ad</th>\n",
       "      <th>Age</th>\n",
       "      <th>Gender</th>\n",
       "      <th>Cust_Prop</th>\n",
       "      <th>Cust_Ann_Income</th>\n",
       "    </tr>\n",
       "  </thead>\n",
       "  <tbody>\n",
       "    <tr>\n",
       "      <th>0</th>\n",
       "      <td>2.0</td>\n",
       "      <td>17.0</td>\n",
       "      <td>2.0</td>\n",
       "      <td>4.0</td>\n",
       "      <td>0.0</td>\n",
       "      <td>7.50</td>\n",
       "      <td>7.76</td>\n",
       "      <td>7.50</td>\n",
       "      <td>14.0</td>\n",
       "      <td>110.0</td>\n",
       "      <td>...</td>\n",
       "      <td>73.0</td>\n",
       "      <td>3.0</td>\n",
       "      <td>12.0</td>\n",
       "      <td>16.0</td>\n",
       "      <td>A</td>\n",
       "      <td>0</td>\n",
       "      <td>71.0</td>\n",
       "      <td>F</td>\n",
       "      <td>H</td>\n",
       "      <td>65957.0</td>\n",
       "    </tr>\n",
       "    <tr>\n",
       "      <th>1</th>\n",
       "      <td>1.0</td>\n",
       "      <td>7.0</td>\n",
       "      <td>0.0</td>\n",
       "      <td>3.0</td>\n",
       "      <td>25.0</td>\n",
       "      <td>25.00</td>\n",
       "      <td>13.00</td>\n",
       "      <td>0.00</td>\n",
       "      <td>18.0</td>\n",
       "      <td>75.0</td>\n",
       "      <td>...</td>\n",
       "      <td>55.0</td>\n",
       "      <td>6.0</td>\n",
       "      <td>6.0</td>\n",
       "      <td>22.0</td>\n",
       "      <td>A</td>\n",
       "      <td>1</td>\n",
       "      <td>7.0</td>\n",
       "      <td>M</td>\n",
       "      <td>U</td>\n",
       "      <td>0.0</td>\n",
       "    </tr>\n",
       "    <tr>\n",
       "      <th>2</th>\n",
       "      <td>5.0</td>\n",
       "      <td>12.0</td>\n",
       "      <td>3.0</td>\n",
       "      <td>5.0</td>\n",
       "      <td>15.0</td>\n",
       "      <td>15.00</td>\n",
       "      <td>11.25</td>\n",
       "      <td>14.67</td>\n",
       "      <td>19.0</td>\n",
       "      <td>57.0</td>\n",
       "      <td>...</td>\n",
       "      <td>53.0</td>\n",
       "      <td>6.0</td>\n",
       "      <td>17.0</td>\n",
       "      <td>22.0</td>\n",
       "      <td>S</td>\n",
       "      <td>1</td>\n",
       "      <td>79.0</td>\n",
       "      <td>F</td>\n",
       "      <td>U</td>\n",
       "      <td>0.0</td>\n",
       "    </tr>\n",
       "    <tr>\n",
       "      <th>3</th>\n",
       "      <td>1.0</td>\n",
       "      <td>11.0</td>\n",
       "      <td>0.0</td>\n",
       "      <td>3.0</td>\n",
       "      <td>20.0</td>\n",
       "      <td>20.00</td>\n",
       "      <td>12.45</td>\n",
       "      <td>0.00</td>\n",
       "      <td>5.0</td>\n",
       "      <td>113.0</td>\n",
       "      <td>...</td>\n",
       "      <td>71.0</td>\n",
       "      <td>8.0</td>\n",
       "      <td>8.0</td>\n",
       "      <td>33.0</td>\n",
       "      <td>A</td>\n",
       "      <td>0</td>\n",
       "      <td>73.0</td>\n",
       "      <td>F</td>\n",
       "      <td>U</td>\n",
       "      <td>76293.0</td>\n",
       "    </tr>\n",
       "    <tr>\n",
       "      <th>4</th>\n",
       "      <td>3.0</td>\n",
       "      <td>15.0</td>\n",
       "      <td>2.0</td>\n",
       "      <td>7.0</td>\n",
       "      <td>3.0</td>\n",
       "      <td>4.33</td>\n",
       "      <td>3.80</td>\n",
       "      <td>4.00</td>\n",
       "      <td>17.0</td>\n",
       "      <td>118.0</td>\n",
       "      <td>...</td>\n",
       "      <td>63.0</td>\n",
       "      <td>6.0</td>\n",
       "      <td>12.0</td>\n",
       "      <td>24.0</td>\n",
       "      <td>S</td>\n",
       "      <td>1</td>\n",
       "      <td>68.0</td>\n",
       "      <td>F</td>\n",
       "      <td>H</td>\n",
       "      <td>113663.0</td>\n",
       "    </tr>\n",
       "  </tbody>\n",
       "</table>\n",
       "<p>5 rows × 22 columns</p>\n",
       "</div>"
      ],
      "text/plain": [
       "   Pur_3_years  Pur_5_years  Pur_3_years_Indirect  Pur_5_years_Indirect  \\\n",
       "0          2.0         17.0                   2.0                   4.0   \n",
       "1          1.0          7.0                   0.0                   3.0   \n",
       "2          5.0         12.0                   3.0                   5.0   \n",
       "3          1.0         11.0                   0.0                   3.0   \n",
       "4          3.0         15.0                   2.0                   7.0   \n",
       "\n",
       "   Pur_latest  Pur_3_years_Avg  Pur_5_years_Avg  Pur_3_years_Avg_Indirect  \\\n",
       "0         0.0             7.50             7.76                      7.50   \n",
       "1        25.0            25.00            13.00                      0.00   \n",
       "2        15.0            15.00            11.25                     14.67   \n",
       "3        20.0            20.00            12.45                      0.00   \n",
       "4         3.0             4.33             3.80                      4.00   \n",
       "\n",
       "   InAct_Last  InAct_First  ...  Ad_Res_5_Year  Ad_Res_Ind_1_Year  \\\n",
       "0        14.0        110.0  ...           73.0                3.0   \n",
       "1        18.0         75.0  ...           55.0                6.0   \n",
       "2        19.0         57.0  ...           53.0                6.0   \n",
       "3         5.0        113.0  ...           71.0                8.0   \n",
       "4        17.0        118.0  ...           63.0                6.0   \n",
       "\n",
       "   Ad_Res_Ind_3_Year  Ad_Res_Ind_5_Year  Status_Cust  Status_Latest_Ad   Age  \\\n",
       "0               12.0               16.0            A                 0  71.0   \n",
       "1                6.0               22.0            A                 1   7.0   \n",
       "2               17.0               22.0            S                 1  79.0   \n",
       "3                8.0               33.0            A                 0  73.0   \n",
       "4               12.0               24.0            S                 1  68.0   \n",
       "\n",
       "  Gender  Cust_Prop Cust_Ann_Income  \n",
       "0      F          H         65957.0  \n",
       "1      M          U             0.0  \n",
       "2      F          U             0.0  \n",
       "3      F          U         76293.0  \n",
       "4      F          H        113663.0  \n",
       "\n",
       "[5 rows x 22 columns]"
      ]
     },
     "execution_count": 95,
     "metadata": {},
     "output_type": "execute_result"
    }
   ],
   "source": [
    "X.head()"
   ]
  },
  {
   "cell_type": "code",
   "execution_count": 96,
   "metadata": {},
   "outputs": [
    {
     "data": {
      "text/plain": [
       "0    1\n",
       "1    1\n",
       "2    0\n",
       "3    1\n",
       "4    1\n",
       "Name: Potential_Customer, dtype: category\n",
       "Categories (2, int64): [0, 1]"
      ]
     },
     "execution_count": 96,
     "metadata": {},
     "output_type": "execute_result"
    }
   ],
   "source": [
    "y.head()"
   ]
  },
  {
   "cell_type": "code",
   "execution_count": 140,
   "metadata": {},
   "outputs": [
    {
     "name": "stdout",
     "output_type": "stream",
     "text": [
      "<class 'pandas.core.frame.DataFrame'>\n",
      "Int64Index: 3618 entries, 0 to 3617\n",
      "Columns: 3645 entries, Cust_Last_Purchase to Cust_Prop_U\n",
      "dtypes: float64(19), uint8(3626)\n",
      "memory usage: 13.1 MB\n"
     ]
    }
   ],
   "source": [
    "X_dummy = pd.get_dummies(X, drop_first=True)\n",
    "X_dummy.info()"
   ]
  },
  {
   "cell_type": "markdown",
   "metadata": {},
   "source": [
    "## 3.2 Split data to train/test"
   ]
  },
  {
   "cell_type": "code",
   "execution_count": 141,
   "metadata": {},
   "outputs": [],
   "source": [
    "X_train, X_test, y_train, y_test = train_test_split(X_dummy , y, test_size=0.25, \n",
    "                                                    random_state=42, stratify=y)"
   ]
  },
  {
   "cell_type": "markdown",
   "metadata": {},
   "source": [
    "## 3.3 Find and Remove/Impute the Missing Values"
   ]
  },
  {
   "cell_type": "code",
   "execution_count": 99,
   "metadata": {},
   "outputs": [],
   "source": [
    "X_train['Age'].fillna(X_train['Age'].median(), inplace=True)\n",
    "X_test['Age'].fillna(X_train['Age'].median(), inplace=True)"
   ]
  },
  {
   "cell_type": "code",
   "execution_count": 100,
   "metadata": {},
   "outputs": [
    {
     "data": {
      "text/plain": [
       "Index(['Age'], dtype='object')"
      ]
     },
     "execution_count": 100,
     "metadata": {},
     "output_type": "execute_result"
    }
   ],
   "source": [
    "null_columns=data.columns[data.isnull().any()]\n",
    "null_columns"
   ]
  },
  {
   "cell_type": "code",
   "execution_count": 101,
   "metadata": {},
   "outputs": [
    {
     "data": {
      "text/plain": [
       "Index([], dtype='object')"
      ]
     },
     "execution_count": 101,
     "metadata": {},
     "output_type": "execute_result"
    }
   ],
   "source": [
    "null_columns=X_train.columns[X_train.isnull().any()]\n",
    "null_columns"
   ]
  },
  {
   "cell_type": "code",
   "execution_count": 102,
   "metadata": {},
   "outputs": [
    {
     "data": {
      "text/plain": [
       "Index([], dtype='object')"
      ]
     },
     "execution_count": 102,
     "metadata": {},
     "output_type": "execute_result"
    }
   ],
   "source": [
    "null_columns=X_test.columns[X_test.isnull().any()]\n",
    "null_columns"
   ]
  },
  {
   "cell_type": "markdown",
   "metadata": {},
   "source": [
    "## 6.4 Dummy Variables\n",
    "Change categorical variables with numerical variables"
   ]
  },
  {
   "cell_type": "code",
   "execution_count": 24,
   "metadata": {},
   "outputs": [
    {
     "ename": "NameError",
     "evalue": "name 'age' is not defined",
     "output_type": "error",
     "traceback": [
      "\u001b[1;31m---------------------------------------------------------------------------\u001b[0m",
      "\u001b[1;31mNameError\u001b[0m                                 Traceback (most recent call last)",
      "\u001b[1;32m<ipython-input-24-282f1209f5f3>\u001b[0m in \u001b[0;36m<module>\u001b[1;34m\u001b[0m\n\u001b[1;32m----> 1\u001b[1;33m \u001b[0mage\u001b[0m\u001b[1;33m.\u001b[0m\u001b[0mmedian\u001b[0m\u001b[1;33m\u001b[0m\u001b[1;33m\u001b[0m\u001b[0m\n\u001b[0m",
      "\u001b[1;31mNameError\u001b[0m: name 'age' is not defined"
     ]
    }
   ],
   "source": [
    "age.median\n"
   ]
  },
  {
   "cell_type": "markdown",
   "metadata": {},
   "source": [
    "## 6.5 Feature Scaling"
   ]
  },
  {
   "cell_type": "code",
   "execution_count": 103,
   "metadata": {},
   "outputs": [],
   "source": [
    "#StandardScaler\n",
    "X_train_sc = StandardScaler().fit_transform(X_train)\n",
    "X_test_sc = StandardScaler().fit_transform(X_test)"
   ]
  },
  {
   "cell_type": "code",
   "execution_count": 104,
   "metadata": {},
   "outputs": [],
   "source": [
    "from sklearn.preprocessing import MinMaxScaler\n",
    "#MinMaxScaler \n",
    "X_train_msc = MinMaxScaler().fit_transform(X_train)\n",
    "X_test_msc = MinMaxScaler().fit_transform(X_test)"
   ]
  },
  {
   "cell_type": "code",
   "execution_count": 105,
   "metadata": {},
   "outputs": [],
   "source": [
    "from sklearn.preprocessing import PowerTransformer\n",
    "#PowerTransformer\n",
    "power = PowerTransformer()\n",
    "X_train_power = power.fit_transform(X_train)\n",
    "X_test_power = power.fit_transform(X_test)"
   ]
  },
  {
   "cell_type": "markdown",
   "metadata": {},
   "source": [
    "## 6.6 PCA on Numerical Columns only\n",
    "\n",
    "1. Save the above scaled train and test data, as dataframe with proper column names\n",
    "    - `X_train_sc=pd.DataFrame(X_train_sc, columns=X_train.columns)`\n",
    "\n",
    "    - `X_train_sc.index=X_train.index`\n",
    "\n",
    "    - `X_test_sc=pd.DataFrame(X_test_sc, columns=X_test.columns)`\n",
    "\n",
    "    - `X_test_sc.index=X_test.index`\n",
    "\n",
    "2. Separate train and test data for numerical columns only\n",
    "    - `train_PCA=X_train_sc[NewNumCols]` \n",
    "\n",
    "    - `test_PCA=X_test_sc[NewNumCols]`\n",
    "3. Define the number of components on `train_PCA`\n",
    "4. Fit PCA on `train_PCA` \n",
    "5. Transform `train_PCA` and `test_PCA` save it as `PCA_train` and `PCA_test`, and save them as DataFrame. Use `PCA_train.index=X_train.index` to make sure `PCA_train` have the same index with `X_train` because we need to concat this data to the dummy variables. Do the same on `PCA_test`\n",
    "6. Concat `PCA_train` to the dummy variables in `X_train` save it as `X_train_pca`\n",
    "7. Concat `PCA_test` to the dummy variables in `X_test` save it as `X_train_pca`"
   ]
  },
  {
   "cell_type": "code",
   "execution_count": null,
   "metadata": {},
   "outputs": [],
   "source": []
  },
  {
   "cell_type": "code",
   "execution_count": 106,
   "metadata": {},
   "outputs": [],
   "source": [
    "X_train_sc=pd.DataFrame(X_train_sc, columns=X_train.columns)\n",
    "X_train_sc.index=X_train.index\n",
    "X_test_sc=pd.DataFrame(X_test_sc, columns=X_test.columns)\n",
    "X_test_sc.index=X_test.index"
   ]
  },
  {
   "cell_type": "code",
   "execution_count": 107,
   "metadata": {},
   "outputs": [],
   "source": [
    "train_PCA=X_train_sc[NumCols]\n",
    "test_PCA=X_test_sc[NumCols]"
   ]
  },
  {
   "cell_type": "code",
   "execution_count": 108,
   "metadata": {},
   "outputs": [
    {
     "data": {
      "text/html": [
       "<div>\n",
       "<style scoped>\n",
       "    .dataframe tbody tr th:only-of-type {\n",
       "        vertical-align: middle;\n",
       "    }\n",
       "\n",
       "    .dataframe tbody tr th {\n",
       "        vertical-align: top;\n",
       "    }\n",
       "\n",
       "    .dataframe thead th {\n",
       "        text-align: right;\n",
       "    }\n",
       "</style>\n",
       "<table border=\"1\" class=\"dataframe\">\n",
       "  <thead>\n",
       "    <tr style=\"text-align: right;\">\n",
       "      <th></th>\n",
       "      <th>Ad_Res_1_year</th>\n",
       "      <th>Ad_Res_Ind_5_Year</th>\n",
       "      <th>Cust_Ann_Income</th>\n",
       "      <th>Pur_3_years_Avg</th>\n",
       "      <th>Pur_3_years_Avg_Indirect</th>\n",
       "      <th>Age</th>\n",
       "      <th>Pur_5_years_Indirect</th>\n",
       "      <th>Pur_3_years</th>\n",
       "      <th>InAct_First</th>\n",
       "      <th>Pur_latest</th>\n",
       "      <th>Pur_3_years_Indirect</th>\n",
       "      <th>Ad_Res_Ind_3_Year</th>\n",
       "      <th>Ad_Res_5_Year</th>\n",
       "      <th>Ad_Res_Ind_1_Year</th>\n",
       "      <th>Pur_5_years_Avg</th>\n",
       "      <th>Pur_5_years</th>\n",
       "      <th>InAct_Last</th>\n",
       "      <th>Ad_Res_3_Year</th>\n",
       "    </tr>\n",
       "  </thead>\n",
       "  <tbody>\n",
       "    <tr>\n",
       "      <th>3151</th>\n",
       "      <td>3.166816</td>\n",
       "      <td>0.287620</td>\n",
       "      <td>0.526282</td>\n",
       "      <td>-0.662062</td>\n",
       "      <td>-0.383673</td>\n",
       "      <td>1.817462</td>\n",
       "      <td>0.641166</td>\n",
       "      <td>0.308927</td>\n",
       "      <td>0.034963</td>\n",
       "      <td>-0.834582</td>\n",
       "      <td>0.055135</td>\n",
       "      <td>0.631992</td>\n",
       "      <td>1.583614</td>\n",
       "      <td>1.129097</td>\n",
       "      <td>-0.789183</td>\n",
       "      <td>1.909866</td>\n",
       "      <td>-3.297645</td>\n",
       "      <td>1.824165</td>\n",
       "    </tr>\n",
       "    <tr>\n",
       "      <th>1698</th>\n",
       "      <td>2.768450</td>\n",
       "      <td>0.873527</td>\n",
       "      <td>-0.109796</td>\n",
       "      <td>-0.557287</td>\n",
       "      <td>-0.241189</td>\n",
       "      <td>0.295128</td>\n",
       "      <td>1.459361</td>\n",
       "      <td>0.761965</td>\n",
       "      <td>0.456067</td>\n",
       "      <td>-0.655811</td>\n",
       "      <td>1.271252</td>\n",
       "      <td>1.279334</td>\n",
       "      <td>0.536374</td>\n",
       "      <td>4.016904</td>\n",
       "      <td>-0.624971</td>\n",
       "      <td>1.165494</td>\n",
       "      <td>-2.113147</td>\n",
       "      <td>1.439770</td>\n",
       "    </tr>\n",
       "    <tr>\n",
       "      <th>2327</th>\n",
       "      <td>-0.020117</td>\n",
       "      <td>-0.415470</td>\n",
       "      <td>0.854192</td>\n",
       "      <td>-0.462038</td>\n",
       "      <td>-0.051210</td>\n",
       "      <td>-0.962453</td>\n",
       "      <td>-0.586127</td>\n",
       "      <td>0.761965</td>\n",
       "      <td>-0.780927</td>\n",
       "      <td>-0.477041</td>\n",
       "      <td>0.055135</td>\n",
       "      <td>0.847772</td>\n",
       "      <td>-0.554501</td>\n",
       "      <td>0.407146</td>\n",
       "      <td>-0.483532</td>\n",
       "      <td>-0.323250</td>\n",
       "      <td>-0.217951</td>\n",
       "      <td>0.286584</td>\n",
       "    </tr>\n",
       "    <tr>\n",
       "      <th>721</th>\n",
       "      <td>-0.020117</td>\n",
       "      <td>-1.118559</td>\n",
       "      <td>0.271392</td>\n",
       "      <td>-1.122119</td>\n",
       "      <td>-0.763630</td>\n",
       "      <td>-1.227206</td>\n",
       "      <td>-0.586127</td>\n",
       "      <td>1.215002</td>\n",
       "      <td>-1.149393</td>\n",
       "      <td>-0.923968</td>\n",
       "      <td>0.663194</td>\n",
       "      <td>-0.015350</td>\n",
       "      <td>-1.121756</td>\n",
       "      <td>0.407146</td>\n",
       "      <td>-1.134389</td>\n",
       "      <td>-0.429589</td>\n",
       "      <td>-0.217951</td>\n",
       "      <td>-0.482206</td>\n",
       "    </tr>\n",
       "    <tr>\n",
       "      <th>811</th>\n",
       "      <td>-0.020117</td>\n",
       "      <td>1.225072</td>\n",
       "      <td>0.224565</td>\n",
       "      <td>-0.297255</td>\n",
       "      <td>0.091273</td>\n",
       "      <td>0.824635</td>\n",
       "      <td>0.641166</td>\n",
       "      <td>-0.144110</td>\n",
       "      <td>1.482508</td>\n",
       "      <td>-0.477041</td>\n",
       "      <td>0.055135</td>\n",
       "      <td>0.416211</td>\n",
       "      <td>0.841819</td>\n",
       "      <td>0.407146</td>\n",
       "      <td>-0.291751</td>\n",
       "      <td>0.421122</td>\n",
       "      <td>0.018948</td>\n",
       "      <td>0.158453</td>\n",
       "    </tr>\n",
       "    <tr>\n",
       "      <th>...</th>\n",
       "      <td>...</td>\n",
       "      <td>...</td>\n",
       "      <td>...</td>\n",
       "      <td>...</td>\n",
       "      <td>...</td>\n",
       "      <td>...</td>\n",
       "      <td>...</td>\n",
       "      <td>...</td>\n",
       "      <td>...</td>\n",
       "      <td>...</td>\n",
       "      <td>...</td>\n",
       "      <td>...</td>\n",
       "      <td>...</td>\n",
       "      <td>...</td>\n",
       "      <td>...</td>\n",
       "      <td>...</td>\n",
       "      <td>...</td>\n",
       "      <td>...</td>\n",
       "    </tr>\n",
       "    <tr>\n",
       "      <th>1403</th>\n",
       "      <td>-0.219300</td>\n",
       "      <td>1.576617</td>\n",
       "      <td>1.791638</td>\n",
       "      <td>-0.029603</td>\n",
       "      <td>0.202411</td>\n",
       "      <td>-0.830076</td>\n",
       "      <td>4.323045</td>\n",
       "      <td>1.668040</td>\n",
       "      <td>1.350913</td>\n",
       "      <td>-0.030114</td>\n",
       "      <td>2.487368</td>\n",
       "      <td>0.847772</td>\n",
       "      <td>1.409074</td>\n",
       "      <td>-0.314806</td>\n",
       "      <td>-0.267778</td>\n",
       "      <td>3.611288</td>\n",
       "      <td>-0.454851</td>\n",
       "      <td>0.286584</td>\n",
       "    </tr>\n",
       "    <tr>\n",
       "      <th>2424</th>\n",
       "      <td>-0.219300</td>\n",
       "      <td>-0.532651</td>\n",
       "      <td>-1.637542</td>\n",
       "      <td>-0.233438</td>\n",
       "      <td>0.376241</td>\n",
       "      <td>0.030374</td>\n",
       "      <td>-0.790676</td>\n",
       "      <td>-0.597148</td>\n",
       "      <td>-0.544055</td>\n",
       "      <td>-0.030114</td>\n",
       "      <td>-0.552923</td>\n",
       "      <td>0.416211</td>\n",
       "      <td>-0.467231</td>\n",
       "      <td>0.407146</td>\n",
       "      <td>-0.363669</td>\n",
       "      <td>-0.748605</td>\n",
       "      <td>-0.217951</td>\n",
       "      <td>0.158453</td>\n",
       "    </tr>\n",
       "    <tr>\n",
       "      <th>2788</th>\n",
       "      <td>0.179067</td>\n",
       "      <td>1.225072</td>\n",
       "      <td>0.814282</td>\n",
       "      <td>-0.392505</td>\n",
       "      <td>-1.048597</td>\n",
       "      <td>1.354143</td>\n",
       "      <td>1.050264</td>\n",
       "      <td>-0.144110</td>\n",
       "      <td>1.350913</td>\n",
       "      <td>-0.387655</td>\n",
       "      <td>-1.160981</td>\n",
       "      <td>-1.525815</td>\n",
       "      <td>1.103629</td>\n",
       "      <td>-0.314806</td>\n",
       "      <td>-0.797574</td>\n",
       "      <td>1.059155</td>\n",
       "      <td>-0.454851</td>\n",
       "      <td>0.286584</td>\n",
       "    </tr>\n",
       "    <tr>\n",
       "      <th>1813</th>\n",
       "      <td>-0.020117</td>\n",
       "      <td>-0.181107</td>\n",
       "      <td>0.395320</td>\n",
       "      <td>-0.209625</td>\n",
       "      <td>0.233757</td>\n",
       "      <td>1.354143</td>\n",
       "      <td>-0.790676</td>\n",
       "      <td>0.308927</td>\n",
       "      <td>-0.570374</td>\n",
       "      <td>-0.030114</td>\n",
       "      <td>0.055135</td>\n",
       "      <td>1.063553</td>\n",
       "      <td>-0.292691</td>\n",
       "      <td>0.407146</td>\n",
       "      <td>0.041469</td>\n",
       "      <td>-0.323250</td>\n",
       "      <td>0.966547</td>\n",
       "      <td>0.542848</td>\n",
       "    </tr>\n",
       "    <tr>\n",
       "      <th>656</th>\n",
       "      <td>-0.020117</td>\n",
       "      <td>1.342254</td>\n",
       "      <td>-1.637542</td>\n",
       "      <td>-0.090563</td>\n",
       "      <td>-1.048597</td>\n",
       "      <td>0.758447</td>\n",
       "      <td>1.459361</td>\n",
       "      <td>-0.597148</td>\n",
       "      <td>1.482508</td>\n",
       "      <td>-0.030114</td>\n",
       "      <td>-1.160981</td>\n",
       "      <td>-1.310035</td>\n",
       "      <td>0.929089</td>\n",
       "      <td>0.407146</td>\n",
       "      <td>-0.706478</td>\n",
       "      <td>1.059155</td>\n",
       "      <td>0.018948</td>\n",
       "      <td>0.414716</td>\n",
       "    </tr>\n",
       "  </tbody>\n",
       "</table>\n",
       "<p>2713 rows × 18 columns</p>\n",
       "</div>"
      ],
      "text/plain": [
       "      Ad_Res_1_year  Ad_Res_Ind_5_Year  Cust_Ann_Income  Pur_3_years_Avg  \\\n",
       "3151       3.166816           0.287620         0.526282        -0.662062   \n",
       "1698       2.768450           0.873527        -0.109796        -0.557287   \n",
       "2327      -0.020117          -0.415470         0.854192        -0.462038   \n",
       "721       -0.020117          -1.118559         0.271392        -1.122119   \n",
       "811       -0.020117           1.225072         0.224565        -0.297255   \n",
       "...             ...                ...              ...              ...   \n",
       "1403      -0.219300           1.576617         1.791638        -0.029603   \n",
       "2424      -0.219300          -0.532651        -1.637542        -0.233438   \n",
       "2788       0.179067           1.225072         0.814282        -0.392505   \n",
       "1813      -0.020117          -0.181107         0.395320        -0.209625   \n",
       "656       -0.020117           1.342254        -1.637542        -0.090563   \n",
       "\n",
       "      Pur_3_years_Avg_Indirect       Age  Pur_5_years_Indirect  Pur_3_years  \\\n",
       "3151                 -0.383673  1.817462              0.641166     0.308927   \n",
       "1698                 -0.241189  0.295128              1.459361     0.761965   \n",
       "2327                 -0.051210 -0.962453             -0.586127     0.761965   \n",
       "721                  -0.763630 -1.227206             -0.586127     1.215002   \n",
       "811                   0.091273  0.824635              0.641166    -0.144110   \n",
       "...                        ...       ...                   ...          ...   \n",
       "1403                  0.202411 -0.830076              4.323045     1.668040   \n",
       "2424                  0.376241  0.030374             -0.790676    -0.597148   \n",
       "2788                 -1.048597  1.354143              1.050264    -0.144110   \n",
       "1813                  0.233757  1.354143             -0.790676     0.308927   \n",
       "656                  -1.048597  0.758447              1.459361    -0.597148   \n",
       "\n",
       "      InAct_First  Pur_latest  Pur_3_years_Indirect  Ad_Res_Ind_3_Year  \\\n",
       "3151     0.034963   -0.834582              0.055135           0.631992   \n",
       "1698     0.456067   -0.655811              1.271252           1.279334   \n",
       "2327    -0.780927   -0.477041              0.055135           0.847772   \n",
       "721     -1.149393   -0.923968              0.663194          -0.015350   \n",
       "811      1.482508   -0.477041              0.055135           0.416211   \n",
       "...           ...         ...                   ...                ...   \n",
       "1403     1.350913   -0.030114              2.487368           0.847772   \n",
       "2424    -0.544055   -0.030114             -0.552923           0.416211   \n",
       "2788     1.350913   -0.387655             -1.160981          -1.525815   \n",
       "1813    -0.570374   -0.030114              0.055135           1.063553   \n",
       "656      1.482508   -0.030114             -1.160981          -1.310035   \n",
       "\n",
       "      Ad_Res_5_Year  Ad_Res_Ind_1_Year  Pur_5_years_Avg  Pur_5_years  \\\n",
       "3151       1.583614           1.129097        -0.789183     1.909866   \n",
       "1698       0.536374           4.016904        -0.624971     1.165494   \n",
       "2327      -0.554501           0.407146        -0.483532    -0.323250   \n",
       "721       -1.121756           0.407146        -1.134389    -0.429589   \n",
       "811        0.841819           0.407146        -0.291751     0.421122   \n",
       "...             ...                ...              ...          ...   \n",
       "1403       1.409074          -0.314806        -0.267778     3.611288   \n",
       "2424      -0.467231           0.407146        -0.363669    -0.748605   \n",
       "2788       1.103629          -0.314806        -0.797574     1.059155   \n",
       "1813      -0.292691           0.407146         0.041469    -0.323250   \n",
       "656        0.929089           0.407146        -0.706478     1.059155   \n",
       "\n",
       "      InAct_Last  Ad_Res_3_Year  \n",
       "3151   -3.297645       1.824165  \n",
       "1698   -2.113147       1.439770  \n",
       "2327   -0.217951       0.286584  \n",
       "721    -0.217951      -0.482206  \n",
       "811     0.018948       0.158453  \n",
       "...          ...            ...  \n",
       "1403   -0.454851       0.286584  \n",
       "2424   -0.217951       0.158453  \n",
       "2788   -0.454851       0.286584  \n",
       "1813    0.966547       0.542848  \n",
       "656     0.018948       0.414716  \n",
       "\n",
       "[2713 rows x 18 columns]"
      ]
     },
     "execution_count": 108,
     "metadata": {},
     "output_type": "execute_result"
    }
   ],
   "source": [
    "train_PCA"
   ]
  },
  {
   "cell_type": "code",
   "execution_count": 109,
   "metadata": {},
   "outputs": [
    {
     "data": {
      "image/png": "[encoded data removed]",
      "text/plain": [
       "<Figure size 432x288 with 1 Axes>"
      ]
     },
     "metadata": {
      "needs_background": "light"
     },
     "output_type": "display_data"
    }
   ],
   "source": [
    "from sklearn.decomposition import PCA\n",
    "pca = PCA().fit(train_PCA)\n",
    "plt.plot(np.cumsum(pca.explained_variance_ratio_))\n",
    "plt.xlabel('number of components')\n",
    "plt.ylabel('cumulative explained variance');"
   ]
  },
  {
   "cell_type": "code",
   "execution_count": 110,
   "metadata": {},
   "outputs": [],
   "source": [
    "pca = PCA(10).fit(train_PCA)\n",
    "PCA_train = pca.transform(train_PCA)\n",
    "PCA_test = pca.transform(test_PCA)"
   ]
  },
  {
   "cell_type": "code",
   "execution_count": 111,
   "metadata": {},
   "outputs": [],
   "source": [
    "PCA_train=pd.DataFrame(X_train_sc, columns=X_train.columns)\n",
    "X_train_sc.index=X_train.index\n",
    "X_test_sc=pd.DataFrame(X_test_sc, columns=X_test.columns)\n",
    "X_test_sc.index=X_test.index\n",
    "\n"
   ]
  },
  {
   "cell_type": "code",
   "execution_count": null,
   "metadata": {},
   "outputs": [],
   "source": []
  },
  {
   "cell_type": "code",
   "execution_count": null,
   "metadata": {},
   "outputs": [],
   "source": []
  },
  {
   "cell_type": "markdown",
   "metadata": {},
   "source": [
    "# 7. Objective 1: Machine Learning\n",
    "    \n",
    "**1. Design a predictive model to determine the potential customers who will purchase if you send the advertisement .** The target variable is `Potential_Customer`. \n",
    "\n",
    "    **Attention:** Because the column `Cust_Last_Purchase` relates to the target variable `Potential_Customer`, you need to exclude it from your model.\n",
    "\n",
    "\n",
    "Apply various ML algorithms on the data, evaluate them after Grid Search and Cross Validation, and choose the best model."
   ]
  },
  {
   "cell_type": "markdown",
   "metadata": {},
   "source": [
    "KNN"
   ]
  },
  {
   "cell_type": "code",
   "execution_count": 112,
   "metadata": {},
   "outputs": [
    {
     "data": {
      "text/plain": [
       "GridSearchCV(cv=5, estimator=KNeighborsClassifier(),\n",
       "             param_grid={'n_neighbors': array([ 1,  2,  3,  4,  5,  6,  7,  8,  9, 10, 11, 12, 13, 14, 15, 16, 17,\n",
       "       18, 19]),\n",
       "                         'p': [1, 2], 'weights': ['uniform', 'distance']},\n",
       "             return_train_score=True, scoring='roc_auc')"
      ]
     },
     "execution_count": 112,
     "metadata": {},
     "output_type": "execute_result"
    }
   ],
   "source": [
    "from sklearn.model_selection import GridSearchCV\n",
    "from sklearn.neighbors import KNeighborsClassifier\n",
    "\n",
    "knn_param_grid = {'n_neighbors': np.arange(1, 20),\n",
    "              'p': [1,2],\n",
    "              'weights': ['uniform','distance']}\n",
    "knn_grid = GridSearchCV(KNeighborsClassifier(), \n",
    "                    knn_param_grid, scoring='roc_auc',\n",
    "                    cv=5, return_train_score=True)\n",
    "knn_grid.fit(X_train, y_train)"
   ]
  },
  {
   "cell_type": "code",
   "execution_count": 37,
   "metadata": {},
   "outputs": [
    {
     "name": "stdout",
     "output_type": "stream",
     "text": [
      "Knn best parameters {'n_neighbors': 3, 'p': 1, 'weights': 'uniform'}\n",
      "Knn best score on train set=  0.5100781243727652\n",
      "Knn best score on test set=  0.5060773480662983\n",
      "Knn best model confusion matrix on test data  \n",
      " [[245 226]\n",
      " [221 213]]\n",
      "\n",
      "**************************************\n",
      "\n",
      "Classification report for KNN best model\n",
      "\n",
      "\n",
      "               precision    recall  f1-score   support\n",
      "\n",
      "           0       0.53      0.52      0.52       471\n",
      "           1       0.49      0.49      0.49       434\n",
      "\n",
      "    accuracy                           0.51       905\n",
      "   macro avg       0.51      0.51      0.51       905\n",
      "weighted avg       0.51      0.51      0.51       905\n",
      "\n"
     ]
    }
   ],
   "source": [
    "#add test accuracy later\n",
    "print('Knn best parameters', knn_grid.best_params_)\n",
    "knn_model = knn_grid.best_estimator_\n",
    "knn_model.fit(X_train, y_train)\n",
    "print('Knn best score on train set= ',knn_grid.best_score_ )\n",
    "print('Knn best score on test set= ', knn_model.score(X_test, y_test))\n",
    "\n",
    "\n",
    "knn_pred = knn_model.predict(X_test)\n",
    "knn_confusion = confusion_matrix(y_test, knn_pred)\n",
    "print('Knn best model confusion matrix on test data  \\n',knn_confusion  )\n",
    "print('\\n**************************************\\n')\n",
    "print('Classification report for KNN best model\\n\\n\\n',\n",
    "      classification_report(y_test, knn_pred)) "
   ]
  },
  {
   "cell_type": "code",
   "execution_count": 113,
   "metadata": {},
   "outputs": [],
   "source": [
    "#for scaled data\n",
    "#from sklearn.pipeline import Pipeline\n",
    "#knnpipe = Pipeline([('scale', StandardScaler()),\n",
    "#                   ('KNN',KNeighborsClassifier())])\n",
    "\n",
    "#knn_grid_sc = GridSearchCV(knnpipe,knn_param_grid,cv=5,return_train_score=True)\n",
    "#knn_grid_sc.fit(X_train,y_train)\n",
    "\n",
    "#knn_model_sc = knn_grid_sc.best_estimator_\n",
    "#knn_model_sc.fit(X_train,y_train)\n",
    "#print('KNN best score on scaled set= ',knn_grid_sc.best_score_ )\n",
    "\n",
    "#knn_pred_sc = knn_model_sc.predict(X_test_sc)\n",
    "#knn_confusion_sc = confusion_matrix(y_test, knn_pred_sc)\n",
    "#print('Knn best model confusion matrix on scaled data  \\n',knn_confusion_sc  )\n",
    "#print('\\n**************************************\\n')\n",
    "#print('Classification report for Knn best model\\n\\n\\n',\n",
    "#      classification_report(y_test, knn_pred_sc)) "
   ]
  },
  {
   "cell_type": "markdown",
   "metadata": {
    "scrolled": false
   },
   "source": [
    "Decision Tree"
   ]
  },
  {
   "cell_type": "code",
   "execution_count": 39,
   "metadata": {},
   "outputs": [
    {
     "data": {
      "text/plain": [
       "GridSearchCV(cv=5, estimator=DecisionTreeClassifier(random_state=1),\n",
       "             param_grid={'max_depth': array([1, 2, 3, 4, 5, 6, 7, 8, 9])},\n",
       "             return_train_score=True, scoring='roc_auc')"
      ]
     },
     "execution_count": 39,
     "metadata": {},
     "output_type": "execute_result"
    }
   ],
   "source": [
    "tree_param_grid = {'max_depth': np.arange(1, 10)}\n",
    "\n",
    "tree_grid = GridSearchCV(DecisionTreeClassifier(random_state=1), \n",
    "                        tree_param_grid, cv=5, scoring = 'roc_auc', return_train_score=True)\n",
    "tree_grid.fit(X_train, y_train)"
   ]
  },
  {
   "cell_type": "code",
   "execution_count": 43,
   "metadata": {},
   "outputs": [
    {
     "name": "stdout",
     "output_type": "stream",
     "text": [
      "Decision Tree best parameters {'max_depth': 5}\n",
      "Decision Tree best score on train set=  0.579826261450005\n",
      "Decision Tree best score on test set=  0.5657458563535912\n",
      "Decision Tree best model confusion matrix on test data  \n",
      " [[297 174]\n",
      " [219 215]]\n",
      "\n",
      "**************************************\n",
      "\n",
      "Classification report for Decision Tree best model\n",
      "\n",
      "\n",
      "               precision    recall  f1-score   support\n",
      "\n",
      "           0       0.58      0.63      0.60       471\n",
      "           1       0.55      0.50      0.52       434\n",
      "\n",
      "    accuracy                           0.57       905\n",
      "   macro avg       0.56      0.56      0.56       905\n",
      "weighted avg       0.56      0.57      0.56       905\n",
      "\n"
     ]
    }
   ],
   "source": [
    "print('Decision Tree best parameters', tree_grid.best_params_)\n",
    "tree_model = tree_grid.best_estimator_\n",
    "tree_model.fit(X_train, y_train)\n",
    "print('Decision Tree best score on train set= ',tree_grid.best_score_ )\n",
    "print('Decision Tree best score on test set= ', tree_model.score(X_test, y_test))\n",
    "\n",
    "tree_pred = tree_model.predict(X_test)\n",
    "tree_confusion = confusion_matrix(y_test, tree_pred)\n",
    "print('Decision Tree best model confusion matrix on test data  \\n',tree_confusion )\n",
    "print('\\n**************************************\\n')\n",
    "print('Classification report for Decision Tree best model\\n\\n\\n',\n",
    "      classification_report(y_test, tree_pred)) "
   ]
  },
  {
   "cell_type": "code",
   "execution_count": 41,
   "metadata": {},
   "outputs": [
    {
     "name": "stdout",
     "output_type": "stream",
     "text": [
      "Decision Tree best score on train set=  0.579826261450005\n",
      "Decision Tree best model confusion matrix on scaled data  \n",
      " [[295 176]\n",
      " [220 214]]\n",
      "\n",
      "**************************************\n",
      "\n",
      "Classification report for Decision Tree best model\n",
      "\n",
      "\n",
      "               precision    recall  f1-score   support\n",
      "\n",
      "           0       0.57      0.63      0.60       471\n",
      "           1       0.55      0.49      0.52       434\n",
      "\n",
      "    accuracy                           0.56       905\n",
      "   macro avg       0.56      0.56      0.56       905\n",
      "weighted avg       0.56      0.56      0.56       905\n",
      "\n"
     ]
    }
   ],
   "source": [
    "#for scaled data\n",
    "tree_model.fit(X_train_sc, y_train)\n",
    "print('Decision Tree best score on train set= ',tree_grid.best_score_ )\n",
    "\n",
    "tree_pred = tree_model.predict(X_test_sc)\n",
    "tree_confusion = confusion_matrix(y_test, tree_pred)\n",
    "print('Decision Tree best model confusion matrix on scaled data  \\n',tree_confusion  )\n",
    "print('\\n**************************************\\n')\n",
    "print('Classification report for Decision Tree best model\\n\\n\\n',\n",
    "      classification_report(y_test, tree_pred)) "
   ]
  },
  {
   "cell_type": "markdown",
   "metadata": {},
   "source": [
    "Logistic Regression"
   ]
  },
  {
   "cell_type": "code",
   "execution_count": 44,
   "metadata": {},
   "outputs": [
    {
     "data": {
      "text/plain": [
       "GridSearchCV(cv=5, estimator=LogisticRegression(solver='liblinear'),\n",
       "             param_grid={'C': [0.0001, 0.001, 0.01, 0.1, 1, 10, 100, 1000],\n",
       "                         'fit_intercept': [True, False],\n",
       "                         'penalty': ['l1', 'l2']},\n",
       "             return_train_score=True, scoring='roc_auc')"
      ]
     },
     "execution_count": 44,
     "metadata": {},
     "output_type": "execute_result"
    }
   ],
   "source": [
    "logr_param_grid = {'C': [0.0001,0.001,0.01, 0.1, 1, 10, 100, 1000],\n",
    "                   'penalty' : ['l1', 'l2'],\n",
    "                   'fit_intercept': [True, False]}\n",
    "\n",
    "logr_grid = GridSearchCV(LogisticRegression(solver='liblinear'), \n",
    "                        logr_param_grid, cv=5, scoring = 'roc_auc', return_train_score=True)\n",
    "logr_grid.fit(X_train, y_train)"
   ]
  },
  {
   "cell_type": "code",
   "execution_count": 45,
   "metadata": {},
   "outputs": [
    {
     "name": "stdout",
     "output_type": "stream",
     "text": [
      "Logistic Regression best parameters {'C': 0.001, 'fit_intercept': True, 'penalty': 'l2'}\n",
      "Logistic Regression best score on train set=  0.5948976521527717\n",
      "Logistic Regression best score on test set=  0.5701657458563536\n",
      "Logistic Regression best model confusion matrix on test data  \n",
      " [[304 167]\n",
      " [222 212]]\n",
      "\n",
      "**************************************\n",
      "\n",
      "Classification report for Logistic Regression best model\n",
      "\n",
      "\n",
      "               precision    recall  f1-score   support\n",
      "\n",
      "           0       0.58      0.65      0.61       471\n",
      "           1       0.56      0.49      0.52       434\n",
      "\n",
      "    accuracy                           0.57       905\n",
      "   macro avg       0.57      0.57      0.57       905\n",
      "weighted avg       0.57      0.57      0.57       905\n",
      "\n"
     ]
    }
   ],
   "source": [
    "print('Logistic Regression best parameters', logr_grid.best_params_)\n",
    "logr_model = logr_grid.best_estimator_\n",
    "logr_model.fit(X_train, y_train)\n",
    "print('Logistic Regression best score on train set= ',logr_grid.best_score_ )\n",
    "print('Logistic Regression best score on test set= ', logr_model.score(X_test, y_test))\n",
    "\n",
    "logr_pred = logr_model.predict(X_test)\n",
    "logr_confusion = confusion_matrix(y_test, logr_pred)\n",
    "print('Logistic Regression best model confusion matrix on test data  \\n',logr_confusion  )\n",
    "print('\\n**************************************\\n')\n",
    "print('Classification report for Logistic Regression best model\\n\\n\\n',\n",
    "      classification_report(y_test, logr_pred)) "
   ]
  },
  {
   "cell_type": "code",
   "execution_count": 46,
   "metadata": {},
   "outputs": [
    {
     "name": "stdout",
     "output_type": "stream",
     "text": [
      "Logistic Regression best score on scaled set=  0.5948976521527717\n",
      "Logistic Regression best model confusion matrix on scaled data  \n",
      " [[277 194]\n",
      " [214 220]]\n",
      "\n",
      "**************************************\n",
      "\n",
      "Classification report for Logistic Regression best model\n",
      "\n",
      "\n",
      "               precision    recall  f1-score   support\n",
      "\n",
      "           0       0.56      0.59      0.58       471\n",
      "           1       0.53      0.51      0.52       434\n",
      "\n",
      "    accuracy                           0.55       905\n",
      "   macro avg       0.55      0.55      0.55       905\n",
      "weighted avg       0.55      0.55      0.55       905\n",
      "\n"
     ]
    }
   ],
   "source": [
    "#for scaled data\n",
    "logr_model.fit(X_train_sc, y_train)\n",
    "print('Logistic Regression best score on scaled set= ',logr_grid.best_score_ )\n",
    "\n",
    "logr_pred = logr_model.predict(X_test_sc)\n",
    "logr_confusion = confusion_matrix(y_test, logr_pred)\n",
    "print('Logistic Regression best model confusion matrix on scaled data  \\n',logr_confusion  )\n",
    "print('\\n**************************************\\n')\n",
    "print('Classification report for Logistic Regression best model\\n\\n\\n',\n",
    "      classification_report(y_test, logr_pred)) "
   ]
  },
  {
   "cell_type": "markdown",
   "metadata": {},
   "source": [
    "SVM"
   ]
  },
  {
   "cell_type": "code",
   "execution_count": null,
   "metadata": {},
   "outputs": [],
   "source": [
    "#svc_param_grid = {'C': [0.1, 1, 10, 100],\n",
    "#                  'kernel' : ['linear', 'rbf'],\n",
    "#                  'gamma': [0.1, 1, 10, 100]}\n",
    "\n",
    "#svc_grid = GridSearchCV(SVC(), \n",
    "#                        svc_param_grid, cv=5, scoring = 'roc_auc', return_train_score=True, n_jobs=5)\n",
    "#svc_grid.fit(X_train, y_train)"
   ]
  },
  {
   "cell_type": "code",
   "execution_count": 34,
   "metadata": {},
   "outputs": [
    {
     "data": {
      "text/plain": [
       "GridSearchCV(cv=5, estimator=LinearSVC(), n_jobs=5,\n",
       "             param_grid={'C': array([1.000e-02, 1.001e+01, 2.001e+01, 3.001e+01, 4.001e+01, 5.001e+01,\n",
       "       6.001e+01, 7.001e+01, 8.001e+01, 9.001e+01]),\n",
       "                         'penalty': ['l1', 'l2']},\n",
       "             return_train_score=True, scoring='roc_auc')"
      ]
     },
     "execution_count": 34,
     "metadata": {},
     "output_type": "execute_result"
    }
   ],
   "source": [
    "#repeat this with scaled data\n",
    "from sklearn.svm import LinearSVC\n",
    "\n",
    "svclinear_param_grid = {'C':np.arange(0.01,100,10),\n",
    "                  'penalty': ['l1', 'l2']}\n",
    "\n",
    "svclinear_grid = GridSearchCV(LinearSVC(), \n",
    "                        svclinear_param_grid, cv=5, scoring = 'roc_auc', return_train_score=True, n_jobs=5)\n",
    "svclinear_grid.fit(X_train, y_train)"
   ]
  },
  {
   "cell_type": "code",
   "execution_count": 53,
   "metadata": {},
   "outputs": [
    {
     "name": "stdout",
     "output_type": "stream",
     "text": [
      "Linear SVM best parameters {'C': 10.01, 'penalty': 'l2'}\n",
      "Linear SVM best score on train set=  0.5335010501335175\n",
      "Linear SVM best score on test set=  0.5259668508287293\n",
      "Linear SVM best model confusion matrix on test data  \n",
      " [[362 109]\n",
      " [320 114]]\n",
      "\n",
      "**************************************\n",
      "\n",
      "Classification report for Linear SVM best model\n",
      "\n",
      "\n",
      "               precision    recall  f1-score   support\n",
      "\n",
      "           0       0.53      0.77      0.63       471\n",
      "           1       0.51      0.26      0.35       434\n",
      "\n",
      "    accuracy                           0.53       905\n",
      "   macro avg       0.52      0.52      0.49       905\n",
      "weighted avg       0.52      0.53      0.49       905\n",
      "\n"
     ]
    }
   ],
   "source": [
    "print('Linear SVM best parameters', svclinear_grid.best_params_)\n",
    "svclinear_model = svclinear_grid.best_estimator_\n",
    "svclinear_model.fit(X_train, y_train)\n",
    "print('Linear SVM best score on train set= ',svclinear_grid.best_score_ )\n",
    "print('Linear SVM best score on test set= ', svclinear_model.score(X_test, y_test))\n",
    "\n",
    "svclinear_pred = svclinear_model.predict(X_test)\n",
    "svclinear_confusion = confusion_matrix(y_test, svclinear_pred)\n",
    "print('Linear SVM best model confusion matrix on test data  \\n',svclinear_confusion  )\n",
    "print('\\n**************************************\\n')\n",
    "print('Classification report for Linear SVM best model\\n\\n\\n',\n",
    "      classification_report(y_test, svclinear_pred)) "
   ]
  },
  {
   "cell_type": "code",
   "execution_count": 56,
   "metadata": {},
   "outputs": [
    {
     "name": "stdout",
     "output_type": "stream",
     "text": [
      "Decision Tree best score on train set=  0.5335010501335175\n",
      "Decision Tree best model confusion matrix on scaled data  \n",
      " [[298 173]\n",
      " [222 212]]\n",
      "\n",
      "**************************************\n",
      "\n",
      "Classification report for Decision Tree best model\n",
      "\n",
      "\n",
      "               precision    recall  f1-score   support\n",
      "\n",
      "           0       0.57      0.63      0.60       471\n",
      "           1       0.55      0.49      0.52       434\n",
      "\n",
      "    accuracy                           0.56       905\n",
      "   macro avg       0.56      0.56      0.56       905\n",
      "weighted avg       0.56      0.56      0.56       905\n",
      "\n"
     ]
    }
   ],
   "source": [
    "#for scaled data\n",
    "svclinear_model.fit(X_train_sc, y_train)\n",
    "print('Decision Tree best score on train set= ',svclinear_grid.best_score_ )\n",
    "\n",
    "svclinear_pred = svclinear_model.predict(X_test_sc)\n",
    "svclinear_confusion = confusion_matrix(y_test, svclinear_pred)\n",
    "print('Decision Tree best model confusion matrix on scaled data  \\n',svclinear_confusion  )\n",
    "print('\\n**************************************\\n')\n",
    "print('Classification report for Decision Tree best model\\n\\n\\n',\n",
    "      classification_report(y_test, svclinear_pred)) "
   ]
  },
  {
   "cell_type": "code",
   "execution_count": 63,
   "metadata": {},
   "outputs": [
    {
     "name": "stdout",
     "output_type": "stream",
     "text": [
      "Linear SVM best score on train set=  0.5727970207878874\n",
      "Linear SVC best model confusion matrix on scaled data  \n",
      " [[225 246]\n",
      " [161 273]]\n",
      "\n",
      "**************************************\n",
      "\n",
      "Classification report for Linear SVC best model\n",
      "\n",
      "\n",
      "               precision    recall  f1-score   support\n",
      "\n",
      "           0       0.58      0.48      0.53       471\n",
      "           1       0.53      0.63      0.57       434\n",
      "\n",
      "    accuracy                           0.55       905\n",
      "   macro avg       0.55      0.55      0.55       905\n",
      "weighted avg       0.56      0.55      0.55       905\n",
      "\n"
     ]
    }
   ],
   "source": [
    "from sklearn.pipeline import Pipeline\n",
    "SVCpipe = Pipeline([('scale', StandardScaler()),\n",
    "                   ('SVC',LinearSVC())])\n",
    "\n",
    "svcl_param_grid_sc = {'SVC__C':np.arange(0.01,100,10)}\n",
    "svcl_grid_sc = GridSearchCV(SVCpipe,svcl_param_grid_sc,cv=5,return_train_score=True)\n",
    "svcl_grid_sc.fit(X_train,y_train)\n",
    "\n",
    "svclinear_model_sc = svcl_grid_sc.best_estimator_\n",
    "svclinear_model_sc.fit(X_train,y_train)\n",
    "print('Linear SVM best score on train set= ',svcl_grid_sc.best_score_ )\n",
    "\n",
    "svclinear_pred_sc = svclinear_model_sc.predict(X_test_sc)\n",
    "svclinear_confusion_sc = confusion_matrix(y_test, svclinear_pred_sc)\n",
    "print('Linear SVC best model confusion matrix on scaled data  \\n',svclinear_confusion_sc  )\n",
    "print('\\n**************************************\\n')\n",
    "print('Classification report for Linear SVC best model\\n\\n\\n',\n",
    "      classification_report(y_test, svclinear_pred_sc)) "
   ]
  },
  {
   "cell_type": "markdown",
   "metadata": {},
   "source": [
    "# 8. Objective 2\n",
    "\n",
    "**2. Calculate the value and the revenue of your model.** Fit your model on train set. Assume among the customers on your test set we only send advertisement to those your model predicted as Class1 and we ignore the rest. From the data you can calculate the average `Cust_Last_Purchase` for those who are in the train set and had the last purchase (`Cust_Last_Purchase`>0) . Assume sending advertisement to each customer costs 5$ and the average purchase you calculated on the train set remains the same for the test set. Calculate the value of your models to choose the best model.\n",
    "\n",
    "    - cost = advertisement_cost * number of the predicted positive\n",
    "    - lost = average_purchase * number of the predicted negative but they have been positive\n",
    "    - gain = average_purchase * number of the predicted positive and they have been positive\n",
    "    - value = gain - lost - cost\n",
    "    - revenue = gain - cost"
   ]
  },
  {
   "cell_type": "code",
   "execution_count": null,
   "metadata": {},
   "outputs": [],
   "source": [
    "#Objective: Calculate the value and the revenue of your model. \n",
    "#Fit your model on train set. \n",
    "#Assume among the customers on your test set we only send advertisement to those your model predicted as Class1 \n",
    "#and we ignore the rest. - use confusion matric\n",
    "#From the data you can calculate the average Cust_Last_Purchase for those who are in the train set \n",
    "#and had the last purchase (Cust_Last_Purchase>0) . \n",
    "#Assume sending advertisement to each customer costs 5$ \n",
    "#and the average purchase you calculated on the train set remains the same for the test set. \n",
    "#Calculate the value of your models to choose the best model."
   ]
  },
  {
   "cell_type": "code",
   "execution_count": 155,
   "metadata": {},
   "outputs": [
    {
     "name": "stdout",
     "output_type": "stream",
     "text": [
      "KNN\n",
      "Value: $ -1864.470238095238\n",
      "Revenue: $ 1368.321620583717\n",
      "------------------------------------------\n",
      "Decision tree\n",
      "Value: $ -772.5754608294933\n",
      "Revenue: $ 1784.2690092165894\n",
      "------------------------------------------\n",
      "Logistic Regression\n",
      "Value: $ -1235.3557987711215\n",
      "Revenue: $ 1615.3788402457753\n",
      "------------------------------------------\n",
      "SVM\n",
      "Value: $ -763.1864439324122\n",
      "Revenue: $ 1778.96351766513\n",
      "------------------------------------------\n",
      "SVM (scaled)\n",
      "Value: $ -2238.5846774193546\n",
      "Revenue: $ 1376.2644009216588\n",
      "------------------------------------------\n"
     ]
    }
   ],
   "source": [
    "confusion = [knn_confusion, tree_confusion, logr_confusion, svclinear_confusion, svclinear_confusion_sc]\n",
    "confusion_name = ['KNN', 'Decision tree','Logistic Regression','SVM','SVM (scaled)']\n",
    "ad_cost= 5\n",
    "avg_pur=data[(data.index.isin(X_train.index))&(data.Cust_Last_Purchase>0)]['Cust_Last_Purchase'].mean()\n",
    "\n",
    "for i in range(0,5):\n",
    "    cost = ad_cost*(confusion[i][0,0] + confusion[i][1,0])\n",
    "    lost = avg_pur*confusion[i][0,1]\n",
    "    gain = avg_pur*confusion[i][0,0]\n",
    "    value= gain - lost - cost\n",
    "    revenue = gain - cost\n",
    "    print(confusion_name[i])\n",
    "    print('Value: $',value)\n",
    "    print('Revenue: $',revenue)\n",
    "    print('------------------------------------------')\n"
   ]
  },
  {
   "cell_type": "code",
   "execution_count": null,
   "metadata": {},
   "outputs": [],
   "source": []
  },
  {
   "cell_type": "code",
   "execution_count": null,
   "metadata": {},
   "outputs": [],
   "source": []
  },
  {
   "cell_type": "markdown",
   "metadata": {},
   "source": [
    "# 9. Objective 3\n",
    "    \n",
    "**3. Compare your best models' revenue with the revenue of the default solution which is sending advertisement to all the customers in X_test.** Which solution would you choose?\n",
    "\n",
    "    - cost = advertisement_cost * size of the test set\n",
    "    - gain = sum(Cust_Last_Purchase) on test set\n",
    "    - revenue = gain - cost\n",
    "\n"
   ]
  },
  {
   "cell_type": "code",
   "execution_count": 157,
   "metadata": {},
   "outputs": [
    {
     "name": "stdout",
     "output_type": "stream",
     "text": [
      "Default solution: Sending advertisement to all the customers in X_test \n",
      "Revenue = $ 1615.0\n"
     ]
    }
   ],
   "source": [
    "#cf best model revenue with revenue of X_test\n",
    "cost_def = ad_cost*X_test.shape[0]\n",
    "gain_def = data[(data.index.isin(X_test.index))&(data.Cust_Last_Purchase>0)]['Cust_Last_Purchase'].sum()\n",
    "revenue_def = gain_def - cost_def\n",
    "\n",
    "print('Default solution: Sending advertisement to all the customers in X_test \\nRevenue = $', revenue_def)"
   ]
  },
  {
   "cell_type": "markdown",
   "metadata": {},
   "source": [
    "# 10. Objective 4\n",
    "    \n",
    "**4. Assume the next time you want to target a group of 30,000 customers simillar to this group. And assume the purchase rate is $10\\%$ which means 10 out of 100 people who receive the advertisement will purchase the product. Also assume your model will have the same Precision and Recall for Class1 .** Will you send the advertisement to everyone, or you use one of the models you have already created?\n",
    "\n",
    "    - calculate your model's revenue on this set of 30,000 customers based on the above assumptions\n",
    "    - calculate the revenue of the default model: send advertisement to everyone\n",
    "         - cost = advertisement_cost * size of the test set\n",
    "         - gain = average_purchase * purchase_rate\n",
    "         - revenue = gain - cost\n",
    "    \n",
    "**Hint:**\n",
    "    To calculate the revenue of a model for this new set of customers with different purchase rate we need to calculate the new confusion matrix given Precision and Recall for Class1 are fixed."
   ]
  },
  {
   "cell_type": "code",
   "execution_count": 162,
   "metadata": {},
   "outputs": [
    {
     "name": "stdout",
     "output_type": "stream",
     "text": [
      "KNN\n",
      "Value: $ -14900.037357492925\n",
      "Revenue: $ 7091.743994064596\n",
      "------------------------------------------\n",
      "Decision tree\n",
      "Value: $ -10353.6644237262\n",
      "Revenue: $ 9364.930460947959\n",
      "------------------------------------------\n",
      "Logistic Regression\n",
      "Value: $ -12231.469422738704\n",
      "Revenue: $ 8426.027961441705\n",
      "------------------------------------------\n",
      "Linear SVM\n",
      "Value: $ -10534.396133820097\n",
      "Revenue: $ 9274.56460590101\n",
      "------------------------------------------\n",
      "Linear SVM (scaled)\n",
      "Value: $ -12706.637409765317\n",
      "Revenue: $ 8188.4439679284005\n",
      "------------------------------------------\n"
     ]
    }
   ],
   "source": [
    "#model revenue on 30000 custs\n",
    "\n",
    "confusion_name = ['KNN', 'Decision tree','Logistic Regression','Linear SVM','Linear SVM (scaled)']\n",
    "y_pred = [knn_pred, tree_pred, logr_pred, svclinear_pred, svclinear_pred_sc]\n",
    "ad_cost= 5\n",
    "avg_pur=data[(data.index.isin(X_train.index))&(data.Cust_Last_Purchase>0)]['Cust_Last_Purchase'].mean()\n",
    "potential_cust = 30000*0.1\n",
    "\n",
    "for i in range(0,5):\n",
    "    prec = precision_score(y_test, y_pred[i])\n",
    "    recall = recall_score(y_test, y_pred[i])\n",
    "    acc = accuracy_score(y_test, y_pred[i])\n",
    "    \n",
    "    tp_new = prec*potential_cust\n",
    "    fn_new = potential_cust - tp_new\n",
    "    fp_new = (tp_new/prec) - tp_new\n",
    "    tn_new = 30000 - tp_new - fn_new - fp_new\n",
    "\n",
    "    cost = ad_cost*(tp_new + fp_new)\n",
    "    lost = avg_pur*fn_new\n",
    "    gain = avg_pur*tp_new\n",
    "    value= gain - lost - cost\n",
    "    revenue = gain - cost\n",
    "    print(confusion_name[i])\n",
    "    print('Value: $',value)\n",
    "    print('Revenue: $',revenue)\n",
    "    print('------------------------------------------')"
   ]
  },
  {
   "cell_type": "code",
   "execution_count": 165,
   "metadata": {},
   "outputs": [
    {
     "name": "stdout",
     "output_type": "stream",
     "text": [
      "Default solution: Sending advertisement to all the customers \n",
      "Revenue = $ 8188.4439679284005\n"
     ]
    }
   ],
   "source": [
    "#revenue of default model\n",
    "cost_def = ad_cost*30000\n",
    "lost_def = avg_pur*0.1\n",
    "revenue_def = gain - cost\n",
    "print('Default solution: Sending advertisement to all the customers \\nRevenue = $', revenue_def)"
   ]
  },
  {
   "cell_type": "code",
   "execution_count": null,
   "metadata": {},
   "outputs": [],
   "source": []
  }
 ],
 "metadata": {
  "kernelspec": {
   "display_name": "Python 3",
   "language": "python",
   "name": "python3"
  },
  "language_info": {
   "codemirror_mode": {
    "name": "ipython",
    "version": 3
   },
   "file_extension": ".py",
   "mimetype": "text/x-python",
   "name": "python",
   "nbconvert_exporter": "python",
   "pygments_lexer": "ipython3",
   "version": "3.8.8"
  }
 },
 "nbformat": 4,
 "nbformat_minor": 2
}
